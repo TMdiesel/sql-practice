{
 "cells": [
  {
   "cell_type": "markdown",
   "metadata": {},
   "source": [
    "## overview"
   ]
  },
  {
   "cell_type": "code",
   "execution_count": 1,
   "metadata": {},
   "outputs": [],
   "source": [
    "# default package\n",
    "import logging\n",
    "import sys \n",
    "import os\n",
    "import pathlib\n",
    "import IPython\n",
    "import random"
   ]
  },
  {
   "cell_type": "code",
   "execution_count": 2,
   "metadata": {},
   "outputs": [],
   "source": [
    "# third party package\n",
    "import pandas as pd \n",
    "import numpy as np\n",
    "import matplotlib.pyplot as plt\n",
    "import seaborn as sns\n",
    "from tqdm import tqdm\n",
    "import psycopg2\n",
    "import sqlalchemy\n",
    "from sqlalchemy.sql.expression import column,select,table\n",
    "from sqlalchemy import create_engine\n",
    "import sklearn.datasets"
   ]
  },
  {
   "cell_type": "code",
   "execution_count": 3,
   "metadata": {},
   "outputs": [],
   "source": [
    "# my package\n",
    "sys.path.append(os.path.join(pathlib.Path().resolve(),\"../\"))"
   ]
  },
  {
   "cell_type": "code",
   "execution_count": 4,
   "metadata": {},
   "outputs": [],
   "source": [
    "# reload settings\n",
    "%load_ext autoreload\n",
    "%autoreload 2"
   ]
  },
  {
   "cell_type": "code",
   "execution_count": 5,
   "metadata": {},
   "outputs": [],
   "source": [
    "# logger\n",
    "logger=logging.getLogger(__name__)\n",
    "logging.basicConfig(level=logging.INFO)"
   ]
  },
  {
   "cell_type": "code",
   "execution_count": 6,
   "metadata": {},
   "outputs": [],
   "source": [
    "## grap setting\n",
    "sns.set()"
   ]
  },
  {
   "cell_type": "code",
   "execution_count": 7,
   "metadata": {},
   "outputs": [
    {
     "name": "stdout",
     "output_type": "stream",
     "text": [
      "False\n"
     ]
    }
   ],
   "source": [
    "## db setting\n",
    "engine = create_engine('postgresql://postgres:postgres@db:5432/postgres')\n",
    "with engine.connect() as conn:\n",
    "    print(conn.closed)"
   ]
  },
  {
   "cell_type": "markdown",
   "metadata": {},
   "source": [
    "## sql to python"
   ]
  },
  {
   "cell_type": "code",
   "execution_count": 8,
   "metadata": {},
   "outputs": [],
   "source": [
    "def ct(file:str,chap_num:int,num:int,sub_num:int=None,engine:sqlalchemy.engine=engine)->None:\n",
    "    \"\"\"\n",
    "    pubulic schema内のtableをすべて削除してから、指定のtable作成\n",
    "    \"\"\"\n",
    "    if sub_num==None: \n",
    "        filename=f\"../code-ssql2/ddl/ssql2-{file}{chap_num:02}_{num:02}\"\n",
    "    else:\n",
    "        filename=f\"../code-ssql2/ddl/ssql2-{file}{chap_num:02}_{num:02}_{sub_num}\"\n",
    "        \n",
    "    with open(filename,\"r\") as f:\n",
    "        stmt=f.read() \n",
    "    with engine.connect() as conn:\n",
    "        conn.execute(\"drop schema public cascade; create schema public;\")\n",
    "        conn.execute(stmt)"
   ]
  },
  {
   "cell_type": "code",
   "execution_count": 9,
   "metadata": {},
   "outputs": [],
   "source": [
    "def exe(stmt:str,engine:sqlalchemy.engine=engine):\n",
    "    \"\"\"\n",
    "    sql実行\n",
    "    \"\"\"\n",
    "    with engine.connect() as conn:\n",
    "        query=conn.execute(stmt)\n",
    "        try:\n",
    "            result=query.fetchall()\n",
    "            return result\n",
    "        except:\n",
    "            return None"
   ]
  },
  {
   "cell_type": "markdown",
   "metadata": {},
   "source": [
    "## List"
   ]
  },
  {
   "cell_type": "code",
   "execution_count": 10,
   "metadata": {},
   "outputs": [
    {
     "data": {
      "text/plain": [
       "[(380,), (0,), (2800,), (5000,), (7560,)]"
      ]
     },
     "execution_count": 10,
     "metadata": {},
     "output_type": "execute_result"
    }
   ],
   "source": [
    "ct(\"List\",1,1)\n",
    "exe(\"select 出金額 from 家計簿\")"
   ]
  },
  {
   "cell_type": "code",
   "execution_count": 11,
   "metadata": {},
   "outputs": [
    {
     "data": {
      "text/plain": [
       "[(datetime.date(2018, 2, 3), 380),\n",
       " (datetime.date(2018, 2, 10), 0),\n",
       " (datetime.date(2018, 2, 11), 2800),\n",
       " (datetime.date(2018, 2, 14), 5000),\n",
       " (datetime.date(2018, 2, 18), 7560)]"
      ]
     },
     "execution_count": 11,
     "metadata": {},
     "output_type": "execute_result"
    }
   ],
   "source": [
    "ct(\"List\",1,2)\n",
    "exe(\"select 日付,出金額 from 家計簿\")"
   ]
  },
  {
   "cell_type": "code",
   "execution_count": 12,
   "metadata": {},
   "outputs": [
    {
     "data": {
      "text/plain": [
       "[(datetime.date(2018, 2, 3), '食費', 'コーヒーを購入', 0, 380),\n",
       " (datetime.date(2018, 2, 10), '給料', '1月の給料', 280000, 0),\n",
       " (datetime.date(2018, 2, 11), '教養娯楽費', '書籍を購入', 0, 2800),\n",
       " (datetime.date(2018, 2, 14), '交際費', '同期会の会費', 0, 5000),\n",
       " (datetime.date(2018, 2, 18), '水道光熱費', '1月の電気代', 0, 7560)]"
      ]
     },
     "execution_count": 12,
     "metadata": {},
     "output_type": "execute_result"
    }
   ],
   "source": [
    "ct(\"List\",1,3)\n",
    "exe(\"select * from 家計簿\")"
   ]
  },
  {
   "cell_type": "code",
   "execution_count": 10,
   "metadata": {},
   "outputs": [
    {
     "data": {
      "text/plain": [
       "[(datetime.date(2018, 2, 14), '交際費', '同期会の会費', 0, 5000),\n",
       " (datetime.date(2018, 2, 18), '水道光熱費', '1月の電気代', 0, 7560)]"
      ]
     },
     "execution_count": 10,
     "metadata": {},
     "output_type": "execute_result"
    }
   ],
   "source": [
    "ct(\"List\",1,4)\n",
    "exe(\"\"\"select * from 家計簿 where 出金額>3000\"\"\")"
   ]
  },
  {
   "cell_type": "code",
   "execution_count": 14,
   "metadata": {},
   "outputs": [
    {
     "data": {
      "text/plain": [
       "[(datetime.date(2018, 2, 3), '食費', 'コーヒーを購入', 0, 380),\n",
       " (datetime.date(2018, 2, 10), '給料', '1月の給料', 280000, 0),\n",
       " (datetime.date(2018, 2, 11), '教養娯楽費', '書籍を購入', 0, 2800),\n",
       " (datetime.date(2018, 2, 14), '交際費', '同期会の会費', 0, 5000),\n",
       " (datetime.date(2018, 2, 18), '水道光熱費', '1月の電気代', 0, 7560),\n",
       " (datetime.date(2018, 2, 25), '居住費', '3月の家賃', 0, 85000)]"
      ]
     },
     "execution_count": 14,
     "metadata": {},
     "output_type": "execute_result"
    }
   ],
   "source": [
    "ct(\"List\",1,5)\n",
    "exe(\"\"\"insert into 家計簿 values ('2018-02-25','居住費','3月の家賃',0,85000)\"\"\")\n",
    "exe(\"select * from 家計簿\")"
   ]
  },
  {
   "cell_type": "code",
   "execution_count": 15,
   "metadata": {},
   "outputs": [
    {
     "data": {
      "text/plain": [
       "[(datetime.date(2018, 2, 3), '食費', 'コーヒーを購入', 0, 380),\n",
       " (datetime.date(2018, 2, 10), '給料', '1月の給料', 280000, 0),\n",
       " (datetime.date(2018, 2, 11), '教養娯楽費', '書籍を購入', 0, 2800),\n",
       " (datetime.date(2018, 2, 14), '交際費', '同期会の会費', 0, 5000),\n",
       " (datetime.date(2018, 2, 18), '水道光熱費', '1月の電気代', 0, 7560),\n",
       " (datetime.date(2018, 2, 25), '居住費', '3月の家賃', 0, 90000)]"
      ]
     },
     "execution_count": 15,
     "metadata": {},
     "output_type": "execute_result"
    }
   ],
   "source": [
    "ct(\"List\",1,6)\n",
    "exe(\"\"\"update 家計簿 set 出金額=90000 where 日付='2018-02-25'\"\"\")\n",
    "exe(\"select * from 家計簿\")"
   ]
  },
  {
   "cell_type": "code",
   "execution_count": 16,
   "metadata": {},
   "outputs": [
    {
     "data": {
      "text/plain": [
       "[(datetime.date(2018, 2, 3), '食費', 'コーヒーを購入', 0, 380),\n",
       " (datetime.date(2018, 2, 10), '給料', '1月の給料', 280000, 0),\n",
       " (datetime.date(2018, 2, 11), '教養娯楽費', '書籍を購入', 0, 2800),\n",
       " (datetime.date(2018, 2, 14), '交際費', '同期会の会費', 0, 5000),\n",
       " (datetime.date(2018, 2, 18), '水道光熱費', '1月の電気代', 0, 7560)]"
      ]
     },
     "execution_count": 16,
     "metadata": {},
     "output_type": "execute_result"
    }
   ],
   "source": [
    "ct(\"List\",1,7)\n",
    "exe(\"\"\"delete from 家計簿 where 日付='2018-02-25'\"\"\")\n",
    "exe(\"select * from 家計簿\")"
   ]
  },
  {
   "cell_type": "markdown",
   "metadata": {},
   "source": [
    "## Q"
   ]
  },
  {
   "cell_type": "code",
   "execution_count": 17,
   "metadata": {},
   "outputs": [
    {
     "data": {
      "text/plain": [
       "[]"
      ]
     },
     "execution_count": 17,
     "metadata": {},
     "output_type": "execute_result"
    }
   ],
   "source": [
    "ct(\"Q\",1,3,1)\n",
    "exe(\"select * from 家計簿 where 入金額=50000\")"
   ]
  },
  {
   "cell_type": "code",
   "execution_count": 18,
   "metadata": {},
   "outputs": [
    {
     "data": {
      "text/plain": [
       "[(datetime.date(2018, 2, 3), '食費', 'コーヒーを購入', 0, 380),\n",
       " (datetime.date(2018, 2, 10), '給料', '1月の給料', 280000, 0),\n",
       " (datetime.date(2018, 2, 11), '教養娯楽費', '書籍を購入', 0, 2800)]"
      ]
     },
     "execution_count": 18,
     "metadata": {},
     "output_type": "execute_result"
    }
   ],
   "source": [
    "ct(\"Q\",1,3,2)\n",
    "exe(\"delete from 家計簿 where 出金額>4000\")\n",
    "exe(\"select * from 家計簿\")"
   ]
  },
  {
   "cell_type": "code",
   "execution_count": 19,
   "metadata": {},
   "outputs": [
    {
     "data": {
      "text/plain": [
       "[(datetime.date(2018, 2, 10), '給料', '1月の給料', 280000, 0),\n",
       " (datetime.date(2018, 2, 11), '教養娯楽費', '書籍を購入', 0, 2800),\n",
       " (datetime.date(2018, 2, 14), '交際費', '同期会の会費', 0, 5000),\n",
       " (datetime.date(2018, 2, 18), '水道光熱費', '1月の電気代', 0, 7560),\n",
       " (datetime.date(2018, 2, 3), '食費', 'カフェラテ購入', 0, 380)]"
      ]
     },
     "execution_count": 19,
     "metadata": {},
     "output_type": "execute_result"
    }
   ],
   "source": [
    "ct(\"Q\",1,3,3)\n",
    "exe(\"update 家計簿 set メモ='カフェラテ購入' where 日付='2018-02-03'\")\n",
    "exe(\"select * from 家計簿\")"
   ]
  },
  {
   "cell_type": "code",
   "execution_count": null,
   "metadata": {},
   "outputs": [],
   "source": []
  }
 ],
 "metadata": {
  "kernelspec": {
   "display_name": "Python 3",
   "language": "python",
   "name": "python3"
  },
  "language_info": {
   "codemirror_mode": {
    "name": "ipython",
    "version": 3
   },
   "file_extension": ".py",
   "mimetype": "text/x-python",
   "name": "python",
   "nbconvert_exporter": "python",
   "pygments_lexer": "ipython3",
   "version": "3.8.7"
  }
 },
 "nbformat": 4,
 "nbformat_minor": 4
}
