{
 "cells": [
  {
   "cell_type": "markdown",
   "metadata": {},
   "source": [
    "## overview"
   ]
  },
  {
   "cell_type": "code",
   "execution_count": 1,
   "metadata": {},
   "outputs": [],
   "source": [
    "# default package\n",
    "import logging\n",
    "import sys \n",
    "import os\n",
    "import pathlib\n",
    "import IPython\n",
    "import random"
   ]
  },
  {
   "cell_type": "code",
   "execution_count": 2,
   "metadata": {},
   "outputs": [],
   "source": [
    "# third party package\n",
    "import pandas as pd \n",
    "import numpy as np\n",
    "import matplotlib.pyplot as plt\n",
    "import seaborn as sns\n",
    "from tqdm import tqdm\n",
    "import psycopg2\n",
    "import sqlalchemy\n",
    "from sqlalchemy.sql.expression import column,select,table\n",
    "from sqlalchemy import create_engine\n",
    "import sklearn.datasets"
   ]
  },
  {
   "cell_type": "code",
   "execution_count": 3,
   "metadata": {},
   "outputs": [],
   "source": [
    "# my package\n",
    "sys.path.append(os.path.join(pathlib.Path().resolve(),\"../\"))"
   ]
  },
  {
   "cell_type": "code",
   "execution_count": 4,
   "metadata": {},
   "outputs": [],
   "source": [
    "# reload settings\n",
    "%load_ext autoreload\n",
    "%autoreload 2"
   ]
  },
  {
   "cell_type": "code",
   "execution_count": 5,
   "metadata": {},
   "outputs": [],
   "source": [
    "# logger\n",
    "logger=logging.getLogger(__name__)\n",
    "logging.basicConfig(level=logging.INFO)"
   ]
  },
  {
   "cell_type": "code",
   "execution_count": 6,
   "metadata": {},
   "outputs": [],
   "source": [
    "## grap setting\n",
    "sns.set()"
   ]
  },
  {
   "cell_type": "code",
   "execution_count": 7,
   "metadata": {},
   "outputs": [
    {
     "name": "stdout",
     "output_type": "stream",
     "text": [
      "False\n"
     ]
    }
   ],
   "source": [
    "## db setting\n",
    "engine = create_engine('postgresql://postgres:postgres@db:5432/postgres')\n",
    "with engine.connect() as conn:\n",
    "    print(conn.closed)"
   ]
  },
  {
   "cell_type": "markdown",
   "metadata": {},
   "source": [
    "## sql to python"
   ]
  },
  {
   "cell_type": "code",
   "execution_count": 8,
   "metadata": {},
   "outputs": [],
   "source": [
    "def ct(file:str,chap_num:int,num:int,sub_num:int=None,engine:sqlalchemy.engine=engine)->None:\n",
    "    \"\"\"\n",
    "    pubulic schema内のtableをすべて削除してから、指定のtable作成\n",
    "    \"\"\"\n",
    "    if sub_num==None: \n",
    "        filename=f\"../code-ssql2/ddl/ssql2-{file}{chap_num:02}_{num:02}\"\n",
    "    else:\n",
    "        filename=f\"../code-ssql2/ddl/ssql2-{file}{chap_num:02}_{num:02}_{sub_num}\"\n",
    "        \n",
    "    with open(filename,\"r\") as f:\n",
    "        stmt=f.read() \n",
    "    with engine.connect() as conn:\n",
    "        conn.execute(\"drop schema public cascade; create schema public;\")\n",
    "        conn.execute(stmt)"
   ]
  },
  {
   "cell_type": "code",
   "execution_count": 9,
   "metadata": {},
   "outputs": [],
   "source": [
    "def exe(stmt:str,engine:sqlalchemy.engine=engine):\n",
    "    \"\"\"\n",
    "    sql実行\n",
    "    \"\"\"\n",
    "    with engine.connect() as conn:\n",
    "        query=conn.execute(stmt)\n",
    "        try:\n",
    "            result=query.fetchall()\n",
    "            return result\n",
    "        except:\n",
    "            return None"
   ]
  },
  {
   "cell_type": "markdown",
   "metadata": {},
   "source": [
    "## List"
   ]
  },
  {
   "cell_type": "code",
   "execution_count": 10,
   "metadata": {},
   "outputs": [
    {
     "data": {
      "text/plain": [
       "[(datetime.date(2018, 2, 10), '給料', '1月の給料', 280000, 0)]"
      ]
     },
     "execution_count": 10,
     "metadata": {},
     "output_type": "execute_result"
    }
   ],
   "source": [
    "ct(\"List\",3,1)\n",
    "exe(\"\"\"delete from 家計簿 where 出金額>0\"\"\")\n",
    "exe(\"select * from 家計簿\")"
   ]
  },
  {
   "cell_type": "code",
   "execution_count": 11,
   "metadata": {},
   "outputs": [
    {
     "data": {
      "text/plain": [
       "[(datetime.date(2018, 2, 10), '給料', '1月の給料', 280000, 0),\n",
       " (datetime.date(2018, 2, 18), '水道光熱費', '1月の電気代', 0, 7560)]"
      ]
     },
     "execution_count": 11,
     "metadata": {},
     "output_type": "execute_result"
    }
   ],
   "source": [
    "ct(\"List\",3,3)\n",
    "exe(\"\"\"select * from 家計簿 where メモ like '%%1月%%'\"\"\")"
   ]
  },
  {
   "cell_type": "code",
   "execution_count": 12,
   "metadata": {},
   "outputs": [
    {
     "data": {
      "text/plain": [
       "[(datetime.date(2018, 2, 3), '食費', 'コーヒーを購入', 0, 380),\n",
       " (datetime.date(2018, 2, 11), '教養娯楽費', '書籍を購入', 0, 2800)]"
      ]
     },
     "execution_count": 12,
     "metadata": {},
     "output_type": "execute_result"
    }
   ],
   "source": [
    "ct(\"List\",3,4)\n",
    "exe(\"\"\"\n",
    "select * from 家計簿 where 出金額 between 100 and 3000\n",
    "\"\"\")"
   ]
  },
  {
   "cell_type": "code",
   "execution_count": 13,
   "metadata": {},
   "outputs": [
    {
     "data": {
      "text/plain": [
       "[(datetime.date(2018, 2, 14), '交際費', '同期会の会費', 0, 5000),\n",
       " (datetime.date(2018, 2, 18), '水道光熱費', '1月の電気代', 0, 7560)]"
      ]
     },
     "execution_count": 13,
     "metadata": {},
     "output_type": "execute_result"
    }
   ],
   "source": [
    "ct(\"List\",3,4)\n",
    "exe(\"\"\"select * from 家計簿 where 出金額>3000\"\"\")"
   ]
  },
  {
   "cell_type": "code",
   "execution_count": 14,
   "metadata": {},
   "outputs": [
    {
     "data": {
      "text/plain": [
       "[(datetime.date(2018, 2, 3), '食費', 'コーヒーを購入', 0, 380),\n",
       " (datetime.date(2018, 2, 14), '交際費', '同期会の会費', 0, 5000)]"
      ]
     },
     "execution_count": 14,
     "metadata": {},
     "output_type": "execute_result"
    }
   ],
   "source": [
    "ct(\"List\",3,4)\n",
    "exe(\"\"\"select * from 家計簿 where 費目 in ('食費','交際費')\"\"\")"
   ]
  },
  {
   "cell_type": "code",
   "execution_count": 15,
   "metadata": {},
   "outputs": [
    {
     "data": {
      "text/plain": [
       "[(datetime.date(2018, 2, 10), '給料', '1月の給料', 280000, 0),\n",
       " (datetime.date(2018, 2, 11), '教養娯楽費', '書籍を購入', 0, 2800),\n",
       " (datetime.date(2018, 2, 18), '水道光熱費', '1月の電気代', 0, 7560)]"
      ]
     },
     "execution_count": 15,
     "metadata": {},
     "output_type": "execute_result"
    }
   ],
   "source": [
    "ct(\"List\",3,4)\n",
    "exe(\"\"\"select * from 家計簿 where 費目 not in ('食費','交際費')\"\"\")"
   ]
  },
  {
   "cell_type": "code",
   "execution_count": 16,
   "metadata": {},
   "outputs": [
    {
     "data": {
      "text/plain": [
       "[('ゲーム', 'スッキリ勇者クエスト', 'Y', 6850),\n",
       " ('書籍', '魔王征伐日記', 'A', 1200),\n",
       " ('DVD', 'スッキリわかるマンモスの倒し方', 'A', 5250),\n",
       " ('DVD', 'スッキリわかるマンモスの倒し方', 'B', 7140),\n",
       " ('ゲーム', 'スッキリ勇者クエスト', 'B', 6200)]"
      ]
     },
     "execution_count": 16,
     "metadata": {},
     "output_type": "execute_result"
    }
   ],
   "source": [
    "ct(\"List\",3,7)\n",
    "exe(\"\"\"\n",
    "update 湊くんの買い物リスト\n",
    "set 価格=6200\n",
    "where 販売店='B' and 名称='スッキリ勇者クエスト'\n",
    "\"\"\")\n",
    "exe(\"select * from 湊くんの買い物リスト\")"
   ]
  },
  {
   "cell_type": "code",
   "execution_count": 17,
   "metadata": {},
   "outputs": [
    {
     "data": {
      "text/plain": [
       "[('ゲーム', 'スッキリ勇者クエスト', 'B', 7140),\n",
       " ('DVD', 'スッキリわかるマンモスの倒し方', 'A', 5250),\n",
       " ('DVD', 'スッキリわかるマンモスの倒し方', 'B', 7140)]"
      ]
     },
     "execution_count": 17,
     "metadata": {},
     "output_type": "execute_result"
    }
   ],
   "source": [
    "ct(\"List\",3,9)\n",
    "exe(\"\"\"\n",
    "select * from 湊くんの買い物リスト\n",
    "where (販売店='A' or 販売店='B')\n",
    "and \n",
    "(カテゴリ='ゲーム' or カテゴリ='DVD')\n",
    "\"\"\")"
   ]
  },
  {
   "cell_type": "code",
   "execution_count": 18,
   "metadata": {},
   "outputs": [
    {
     "data": {
      "text/plain": [
       "[('2003032', 45, '1', 'ヨシダ\\u3000シゲル'),\n",
       " ('2005011', 31, '1', 'スガワラ\\u3000タクマ'),\n",
       " ('2017001', 22, '1', 'ミナト\\u3000ユウスケ'),\n",
       " ('2017002', 24, '2', 'アサカ\\u3000アユミ')]"
      ]
     },
     "execution_count": 18,
     "metadata": {},
     "output_type": "execute_result"
    }
   ],
   "source": [
    "ct(\"List\",3,10)\n",
    "exe(\"\"\"\n",
    "delete from 社員\n",
    "where 社員番号='2003031'\n",
    "\"\"\")\n",
    "exe(\"select * from 社員\")"
   ]
  },
  {
   "cell_type": "markdown",
   "metadata": {},
   "source": [
    "## Q"
   ]
  },
  {
   "cell_type": "code",
   "execution_count": 19,
   "metadata": {},
   "outputs": [
    {
     "data": {
      "text/plain": [
       "[(6, 236, 32, 16, 73)]"
      ]
     },
     "execution_count": 19,
     "metadata": {},
     "output_type": "execute_result"
    }
   ],
   "source": [
    "ct(\"Q\",3,1,1)\n",
    "exe(\"\"\"select * from 気象観測\n",
    "where 月=6\n",
    "\"\"\")"
   ]
  },
  {
   "cell_type": "code",
   "execution_count": 20,
   "metadata": {},
   "outputs": [
    {
     "data": {
      "text/plain": [
       "[(1, 31, 11, -1, 43),\n",
       " (2, 115, 13, -3, 49),\n",
       " (3, 142, 20, -1, 59),\n",
       " (4, 118, 30, 1, 63),\n",
       " (5, 44, 30, 6, 65),\n",
       " (7, 333, 37, 18, 75),\n",
       " (8, 112, 37, 21, 69),\n",
       " (9, 140, 34, 17, 73),\n",
       " (10, 88, 28, 8, 65),\n",
       " (11, 120, 19, 2, 58),\n",
       " (12, 44, 14, -2, 50)]"
      ]
     },
     "execution_count": 20,
     "metadata": {},
     "output_type": "execute_result"
    }
   ],
   "source": [
    "ct(\"Q\",3,1,2)\n",
    "exe(\"\"\"select * from 気象観測\n",
    "where 月<>6\n",
    "\"\"\")"
   ]
  },
  {
   "cell_type": "code",
   "execution_count": 21,
   "metadata": {},
   "outputs": [
    {
     "data": {
      "text/plain": [
       "[(1, 31, 11, -1, 43),\n",
       " (5, 44, 30, 6, 65),\n",
       " (10, 88, 28, 8, 65),\n",
       " (12, 44, 14, -2, 50)]"
      ]
     },
     "execution_count": 21,
     "metadata": {},
     "output_type": "execute_result"
    }
   ],
   "source": [
    "ct(\"Q\",3,1,1)\n",
    "exe(\"\"\"select * from 気象観測\n",
    "where 降水量<100\n",
    "\"\"\")"
   ]
  },
  {
   "cell_type": "code",
   "execution_count": 22,
   "metadata": {},
   "outputs": [
    {
     "data": {
      "text/plain": [
       "[(6, 236, 32, 16, 73), (7, 333, 37, 18, 75)]"
      ]
     },
     "execution_count": 22,
     "metadata": {},
     "output_type": "execute_result"
    }
   ],
   "source": [
    "ct(\"Q\",3,1,4)\n",
    "exe(\"\"\"select * from 気象観測\n",
    "where 降水量>200\n",
    "\"\"\")"
   ]
  },
  {
   "cell_type": "code",
   "execution_count": 23,
   "metadata": {},
   "outputs": [
    {
     "data": {
      "text/plain": [
       "[(3, 142, 20, -1, 59), (5, 44, 30, 6, 65), (7, 333, 37, 18, 75)]"
      ]
     },
     "execution_count": 23,
     "metadata": {},
     "output_type": "execute_result"
    }
   ],
   "source": [
    "ct(\"Q\",3,1,\"7_1\")\n",
    "exe(\"\"\"select * from 気象観測\n",
    "where 月 in (3,5,7)\n",
    "\"\"\")"
   ]
  },
  {
   "cell_type": "code",
   "execution_count": 24,
   "metadata": {},
   "outputs": [
    {
     "data": {
      "text/plain": [
       "[(1, 31, 11, -1, 43),\n",
       " (2, 115, 13, -3, 49),\n",
       " (4, 118, 30, 1, 63),\n",
       " (6, 236, 32, 16, 73),\n",
       " (8, 100, 37, 21, 69),\n",
       " (9, 140, 34, 17, 73),\n",
       " (10, 88, 28, 8, 65),\n",
       " (11, 120, 19, 2, 58),\n",
       " (12, 44, 14, -2, 50)]"
      ]
     },
     "execution_count": 24,
     "metadata": {},
     "output_type": "execute_result"
    }
   ],
   "source": [
    "ct(\"Q\",3,1,\"8_1\")\n",
    "exe(\"\"\"select * from 気象観測\n",
    "where 月 not in (3,5,7)\n",
    "\"\"\")"
   ]
  },
  {
   "cell_type": "code",
   "execution_count": 25,
   "metadata": {},
   "outputs": [
    {
     "data": {
      "text/plain": [
       "[(4, 118, 30, 1, 63),\n",
       " (5, 44, 30, 6, 65),\n",
       " (6, 236, 32, 16, 73),\n",
       " (7, 333, 37, 18, 75),\n",
       " (8, 100, 37, 21, 69),\n",
       " (9, 140, 34, 17, 73),\n",
       " (10, 88, 28, 8, 65)]"
      ]
     },
     "execution_count": 25,
     "metadata": {},
     "output_type": "execute_result"
    }
   ],
   "source": [
    "ct(\"Q\",3,1,\"11_1\")\n",
    "exe(\"\"\"select * from 気象観測\n",
    "where 湿度 between 60 and 79\n",
    "\"\"\")"
   ]
  },
  {
   "cell_type": "code",
   "execution_count": 26,
   "metadata": {},
   "outputs": [
    {
     "data": {
      "text/plain": [
       "[('14', '関東', '神奈川', '横浜', 2415), ('37', '四国', '香川', '高松', 1876)]"
      ]
     },
     "execution_count": 26,
     "metadata": {},
     "output_type": "execute_result"
    }
   ],
   "source": [
    "ct(\"Q\",3,2,1)\n",
    "exe(\"\"\"select * from 都道府県\n",
    "where 都道府県名 like '%%川'\n",
    "\"\"\")"
   ]
  },
  {
   "cell_type": "code",
   "execution_count": 27,
   "metadata": {},
   "outputs": [
    {
     "data": {
      "text/plain": [
       "[('34', '中国', '広島', '広島', 8478)]"
      ]
     },
     "execution_count": 27,
     "metadata": {},
     "output_type": "execute_result"
    }
   ],
   "source": [
    "ct(\"Q\",3,2,1)\n",
    "exe(\"\"\"select * from 都道府県\n",
    "where 都道府県名 like '%%島%%'\n",
    "\"\"\")"
   ]
  },
  {
   "cell_type": "code",
   "execution_count": 28,
   "metadata": {},
   "outputs": [
    {
     "data": {
      "text/plain": [
       "[('05', '東北', '秋田', '秋田', 11612),\n",
       " ('16', '北陸', '富山', '富山', 4247),\n",
       " ('20', '甲信', '長野', '長野', 13562),\n",
       " ('34', '中国', '広島', '広島', 8478),\n",
       " ('26', '近畿', '京都', '京都', 4613),\n",
       " ('40', '九州', '福岡', '福岡', 4976)]"
      ]
     },
     "execution_count": 28,
     "metadata": {},
     "output_type": "execute_result"
    }
   ],
   "source": [
    "ct(\"Q\",3,2,1)\n",
    "exe(\"\"\"select * from 都道府県\n",
    "where 都道府県名=県庁所在地\n",
    "\"\"\")"
   ]
  },
  {
   "cell_type": "code",
   "execution_count": 29,
   "metadata": {},
   "outputs": [
    {
     "data": {
      "text/plain": [
       "[('01', '北海道', '北海道', '札幌', 83456),\n",
       " ('14', '関東', '神奈川', '横浜', 2415),\n",
       " ('23', '東海', '愛知', '名古屋', 5165),\n",
       " ('37', '四国', '香川', '高松', 1876)]"
      ]
     },
     "execution_count": 29,
     "metadata": {},
     "output_type": "execute_result"
    }
   ],
   "source": [
    "ct(\"Q\",3,2,1)\n",
    "exe(\"\"\"select * from 都道府県\n",
    "where 都道府県名<>県庁所在地\n",
    "\"\"\")"
   ]
  },
  {
   "cell_type": "code",
   "execution_count": 30,
   "metadata": {},
   "outputs": [
    {
     "data": {
      "text/plain": [
       "[('S002', '織田\\u3000信長', 50, 60, 70, 80, 90, None),\n",
       " ('A001', '豊臣\\u3000秀吉', 45, 55, 65, 75, 85, None),\n",
       " ('E004', '徳川\\u3000家康', 90, 80, 70, 60, 50, None)]"
      ]
     },
     "execution_count": 30,
     "metadata": {},
     "output_type": "execute_result"
    }
   ],
   "source": [
    "ct(\"Q\",3,3,1)\n",
    "exe(\"\"\"select * from 成績表\"\"\")"
   ]
  },
  {
   "cell_type": "code",
   "execution_count": 31,
   "metadata": {},
   "outputs": [
    {
     "data": {
      "text/plain": [
       "[('S002', '織田 信長', 50, 60, 70, 80, 90, None),\n",
       " ('A001', '豊臣 秀吉', 45, 55, 65, 75, 85, None),\n",
       " ('E004', '徳川 家康', 90, 80, 70, 60, 50, None),\n",
       " ('S001', '織田信長', 77, 55, 80, 75, 93, None)]"
      ]
     },
     "execution_count": 31,
     "metadata": {},
     "output_type": "execute_result"
    }
   ],
   "source": [
    "ct(\"Q\",3,3,2)\n",
    "exe(\"\"\"\n",
    "insert into 成績表 values('S001','織田信長',77,55,80,75,93,NULL)\n",
    "\"\"\")\n",
    "exe(\"\"\"select * from 成績表\"\"\")"
   ]
  },
  {
   "cell_type": "code",
   "execution_count": 32,
   "metadata": {},
   "outputs": [
    {
     "data": {
      "text/plain": [
       "[('S002', '織田\\u3000信長', 50, 60, 70, 80, 90, None),\n",
       " ('A001', '豊臣\\u3000秀吉', 45, 55, 65, 75, 85, None),\n",
       " ('E004', '徳川\\u3000家康', 90, 80, 70, 60, 50, None),\n",
       " ('A002', '豊臣\\u3000秀吉', 64, 69, 70, 0, 59, None),\n",
       " ('E003', '徳川\\u3000家康', 80, 83, 85, 90, 79, None),\n",
       " ('S001', '織田\\u3000信長', 85, 55, 67, 75, 93, None)]"
      ]
     },
     "execution_count": 32,
     "metadata": {},
     "output_type": "execute_result"
    }
   ],
   "source": [
    "ct(\"Q\",3,3,3)\n",
    "exe(\"\"\"\n",
    "update 成績表 set 法学=85,哲学=67\n",
    "where 学籍番号='S001'\n",
    "\"\"\")\n",
    "exe(\"\"\"select * from 成績表\"\"\")"
   ]
  },
  {
   "cell_type": "code",
   "execution_count": 33,
   "metadata": {},
   "outputs": [
    {
     "data": {
      "text/plain": [
       "[('S002', '織田\\u3000信長', 50, 60, 70, 80, 90, None),\n",
       " ('A001', '豊臣\\u3000秀吉', 45, 55, 65, 75, 85, None),\n",
       " ('E004', '徳川\\u3000家康', 90, 80, 70, 60, 50, None),\n",
       " ('S001', '織田\\u3000信長', 77, 55, 80, 75, 93, None),\n",
       " ('A002', '豊臣\\u3000秀吉', 64, 69, 70, 0, 81, None),\n",
       " ('E003', '徳川\\u3000家康', 80, 83, 85, 90, 81, None)]"
      ]
     },
     "execution_count": 33,
     "metadata": {},
     "output_type": "execute_result"
    }
   ],
   "source": [
    "ct(\"Q\",3,3,3)\n",
    "exe(\"\"\"\n",
    "update 成績表 set 外国語=81\n",
    "where 学籍番号 in ('A002','E003')\n",
    "\"\"\")\n",
    "exe(\"\"\"select * from 成績表\"\"\")"
   ]
  },
  {
   "cell_type": "code",
   "execution_count": null,
   "metadata": {},
   "outputs": [],
   "source": []
  }
 ],
 "metadata": {
  "kernelspec": {
   "display_name": "Python 3",
   "language": "python",
   "name": "python3"
  },
  "language_info": {
   "codemirror_mode": {
    "name": "ipython",
    "version": 3
   },
   "file_extension": ".py",
   "mimetype": "text/x-python",
   "name": "python",
   "nbconvert_exporter": "python",
   "pygments_lexer": "ipython3",
   "version": "3.8.7"
  }
 },
 "nbformat": 4,
 "nbformat_minor": 4
}
