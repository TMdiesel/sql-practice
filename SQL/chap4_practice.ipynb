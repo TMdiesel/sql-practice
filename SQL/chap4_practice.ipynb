{
 "cells": [
  {
   "cell_type": "markdown",
   "metadata": {},
   "source": [
    "## overview"
   ]
  },
  {
   "cell_type": "code",
   "execution_count": 1,
   "metadata": {},
   "outputs": [],
   "source": [
    "# default package\n",
    "import logging\n",
    "import sys \n",
    "import os\n",
    "import pathlib\n",
    "import IPython\n",
    "import random"
   ]
  },
  {
   "cell_type": "code",
   "execution_count": 2,
   "metadata": {},
   "outputs": [],
   "source": [
    "# third party package\n",
    "import pandas as pd \n",
    "import numpy as np\n",
    "import matplotlib.pyplot as plt\n",
    "import seaborn as sns\n",
    "from tqdm import tqdm\n",
    "import psycopg2\n",
    "import sqlalchemy\n",
    "from sqlalchemy.sql.expression import column,select,table\n",
    "from sqlalchemy import create_engine\n",
    "import sklearn.datasets"
   ]
  },
  {
   "cell_type": "code",
   "execution_count": 3,
   "metadata": {},
   "outputs": [],
   "source": [
    "# my package\n",
    "sys.path.append(os.path.join(pathlib.Path().resolve(),\"../\"))"
   ]
  },
  {
   "cell_type": "code",
   "execution_count": 4,
   "metadata": {},
   "outputs": [],
   "source": [
    "# reload settings\n",
    "%load_ext autoreload\n",
    "%autoreload 2"
   ]
  },
  {
   "cell_type": "code",
   "execution_count": 5,
   "metadata": {},
   "outputs": [],
   "source": [
    "# logger\n",
    "logger=logging.getLogger(__name__)\n",
    "logging.basicConfig(level=logging.INFO)"
   ]
  },
  {
   "cell_type": "code",
   "execution_count": 6,
   "metadata": {},
   "outputs": [],
   "source": [
    "## grap setting\n",
    "sns.set()"
   ]
  },
  {
   "cell_type": "code",
   "execution_count": 7,
   "metadata": {},
   "outputs": [
    {
     "name": "stdout",
     "output_type": "stream",
     "text": [
      "False\n"
     ]
    }
   ],
   "source": [
    "## db setting\n",
    "engine = create_engine('postgresql://postgres:postgres@db:5432/postgres')\n",
    "with engine.connect() as conn:\n",
    "    print(conn.closed)"
   ]
  },
  {
   "cell_type": "markdown",
   "metadata": {},
   "source": [
    "## sql to python"
   ]
  },
  {
   "cell_type": "code",
   "execution_count": 8,
   "metadata": {},
   "outputs": [],
   "source": [
    "def ct(file:str,chap_num:int,num:int,sub_num:int=None,engine:sqlalchemy.engine=engine)->None:\n",
    "    \"\"\"\n",
    "    pubulic schema内のtableをすべて削除してから、指定のtable作成\n",
    "    \"\"\"\n",
    "    if sub_num==None: \n",
    "        filename=f\"../code-ssql2/ddl/ssql2-{file}{chap_num:02}_{num:02}\"\n",
    "    else:\n",
    "        filename=f\"../code-ssql2/ddl/ssql2-{file}{chap_num:02}_{num:02}_{sub_num}\"\n",
    "        \n",
    "    with open(filename,\"r\") as f:\n",
    "        stmt=f.read() \n",
    "    with engine.connect() as conn:\n",
    "        conn.execute(\"drop schema public cascade; create schema public;\")\n",
    "        conn.execute(stmt)"
   ]
  },
  {
   "cell_type": "code",
   "execution_count": 9,
   "metadata": {},
   "outputs": [],
   "source": [
    "def exe(stmt:str,engine:sqlalchemy.engine=engine):\n",
    "    \"\"\"\n",
    "    sql実行\n",
    "    \"\"\"\n",
    "    with engine.connect() as conn:\n",
    "        query=conn.execute(stmt)\n",
    "        try:\n",
    "            result=query.fetchall()\n",
    "            return result\n",
    "        except:\n",
    "            return None"
   ]
  },
  {
   "cell_type": "markdown",
   "metadata": {},
   "source": [
    "## List"
   ]
  },
  {
   "cell_type": "code",
   "execution_count": 10,
   "metadata": {},
   "outputs": [
    {
     "data": {
      "text/plain": [
       "[(0,), (280000,)]"
      ]
     },
     "execution_count": 10,
     "metadata": {},
     "output_type": "execute_result"
    }
   ],
   "source": [
    "ct(\"List\",4,2)\n",
    "exe(\"\"\"select distinct 入金額 from 家計簿\"\"\")"
   ]
  },
  {
   "cell_type": "code",
   "execution_count": 11,
   "metadata": {},
   "outputs": [
    {
     "data": {
      "text/plain": [
       "[('食費',), ('給料',), ('交際費',), ('教養娯楽費',), ('水道光熱費',)]"
      ]
     },
     "execution_count": 11,
     "metadata": {},
     "output_type": "execute_result"
    }
   ],
   "source": [
    "ct(\"List\",4,2)\n",
    "exe(\"\"\"select distinct 費目 from 家計簿\"\"\")"
   ]
  },
  {
   "cell_type": "code",
   "execution_count": 12,
   "metadata": {},
   "outputs": [
    {
     "data": {
      "text/plain": [
       "[(datetime.date(2018, 2, 10), '給料', '1月の給料', 280000, 0),\n",
       " (datetime.date(2018, 2, 3), '食費', 'コーヒーを購入', 0, 380),\n",
       " (datetime.date(2018, 2, 11), '教養娯楽費', '書籍を購入', 0, 2800),\n",
       " (datetime.date(2018, 2, 14), '交際費', '同期会の会費', 0, 5000),\n",
       " (datetime.date(2018, 2, 18), '水道光熱費', '1月の電気代', 0, 7560)]"
      ]
     },
     "execution_count": 12,
     "metadata": {},
     "output_type": "execute_result"
    }
   ],
   "source": [
    "ct(\"List\",4,4)\n",
    "exe(\"\"\"select * from 家計簿 order by 出金額\"\"\")"
   ]
  },
  {
   "cell_type": "code",
   "execution_count": 13,
   "metadata": {},
   "outputs": [
    {
     "data": {
      "text/plain": [
       "[(datetime.date(2018, 2, 18), '水道光熱費', '1月の電気代', 0, 7560),\n",
       " (datetime.date(2018, 2, 14), '交際費', '同期会の会費', 0, 5000),\n",
       " (datetime.date(2018, 2, 11), '教養娯楽費', '書籍を購入', 0, 2800),\n",
       " (datetime.date(2018, 2, 10), '給料', '1月の給料', 280000, 0),\n",
       " (datetime.date(2018, 2, 3), '食費', 'コーヒーを購入', 0, 380)]"
      ]
     },
     "execution_count": 13,
     "metadata": {},
     "output_type": "execute_result"
    }
   ],
   "source": [
    "ct(\"List\",4,5)\n",
    "exe(\"\"\"select * from 家計簿 order by 日付 desc\"\"\")"
   ]
  },
  {
   "cell_type": "code",
   "execution_count": 14,
   "metadata": {},
   "outputs": [
    {
     "data": {
      "text/plain": [
       "[(datetime.date(2018, 2, 10), '給料', '1月の給料', 280000, 0),\n",
       " (datetime.date(2018, 2, 18), '水道光熱費', '1月の電気代', 0, 7560),\n",
       " (datetime.date(2018, 2, 14), '交際費', '同期会の会費', 0, 5000),\n",
       " (datetime.date(2018, 2, 11), '教養娯楽費', '書籍を購入', 0, 2800),\n",
       " (datetime.date(2018, 2, 3), '食費', 'コーヒーを購入', 0, 380)]"
      ]
     },
     "execution_count": 14,
     "metadata": {},
     "output_type": "execute_result"
    }
   ],
   "source": [
    "ct(\"List\",4,6)\n",
    "exe(\"\"\"select * from 家計簿 \n",
    "order by 入金額 desc,出金額 desc\"\"\")"
   ]
  },
  {
   "cell_type": "code",
   "execution_count": 15,
   "metadata": {},
   "outputs": [
    {
     "data": {
      "text/plain": [
       "[('水道光熱費', 7560), ('交際費', 5000), ('教養娯楽費', 2800)]"
      ]
     },
     "execution_count": 15,
     "metadata": {},
     "output_type": "execute_result"
    }
   ],
   "source": [
    "ct(\"List\",4,8)\n",
    "exe(\"\"\"\n",
    "select 費目,出金額 from 家計簿\n",
    "order by 出金額 desc\n",
    "offset 0 rows \n",
    "fetch next 3 rows only\n",
    "\"\"\")"
   ]
  },
  {
   "cell_type": "code",
   "execution_count": 16,
   "metadata": {},
   "outputs": [
    {
     "data": {
      "text/plain": [
       "[('教養娯楽費', 2800)]"
      ]
     },
     "execution_count": 16,
     "metadata": {},
     "output_type": "execute_result"
    }
   ],
   "source": [
    "ct(\"List\",4,9)\n",
    "exe(\"\"\"\n",
    "select 費目,出金額 from 家計簿\n",
    "order by 出金額 desc\n",
    "offset 2 rows \n",
    "fetch next 1 rows only\n",
    "\"\"\")"
   ]
  },
  {
   "cell_type": "code",
   "execution_count": 17,
   "metadata": {},
   "outputs": [
    {
     "data": {
      "text/plain": [
       "[('食費', 0, 380),\n",
       " ('教養娯楽費', 0, 1800),\n",
       " ('教養娯楽費', 0, 2800),\n",
       " ('水道光熱費', 0, 4200),\n",
       " ('交際費', 0, 5000),\n",
       " ('食費', 0, 5000),\n",
       " ('水道光熱費', 0, 7560),\n",
       " ('居住費', 0, 80000),\n",
       " ('給料', 280000, 0)]"
      ]
     },
     "execution_count": 17,
     "metadata": {},
     "output_type": "execute_result"
    }
   ],
   "source": [
    "ct(\"List\",4,11)\n",
    "exe(\"\"\"\n",
    "select 費目,入金額,出金額 from 家計簿\n",
    "union\n",
    "select 費目,入金額,出金額 from 家計簿アーカイブ\n",
    "order by 2,3,1\n",
    "\"\"\")"
   ]
  },
  {
   "cell_type": "code",
   "execution_count": 18,
   "metadata": {},
   "outputs": [
    {
     "data": {
      "text/plain": [
       "[('交際費',)]"
      ]
     },
     "execution_count": 18,
     "metadata": {},
     "output_type": "execute_result"
    }
   ],
   "source": [
    "ct(\"List\",4,12,1)\n",
    "exe(\"\"\"select 費目 from 家計簿\n",
    "except\n",
    "select 費目 from 家計簿アーカイブ\n",
    "\"\"\")"
   ]
  },
  {
   "cell_type": "markdown",
   "metadata": {},
   "source": [
    "## Q"
   ]
  },
  {
   "cell_type": "code",
   "execution_count": 19,
   "metadata": {},
   "outputs": [
    {
     "data": {
      "text/plain": [
       "[(datetime.date(2018, 1, 1), 101, 1, 'ブレンドコーヒー', '1', 'S', 210, 1, 210),\n",
       " (datetime.date(2018, 1, 1), 101, 2, 'サンドイッチA', '2', 'X', 360, 1, 360),\n",
       " (datetime.date(2018, 1, 5), 105, 1, 'カフェラテ', '1', 'M', 380, 2, 760)]"
      ]
     },
     "execution_count": 19,
     "metadata": {},
     "output_type": "execute_result"
    }
   ],
   "source": [
    "ct(\"Q\",4,1,1)\n",
    "exe(\"\"\"\n",
    "select * from 注文履歴\n",
    "order by 注文番号,注文枝番\n",
    "\"\"\")"
   ]
  },
  {
   "cell_type": "code",
   "execution_count": 20,
   "metadata": {},
   "outputs": [
    {
     "data": {
      "text/plain": [
       "[('カフェラテ',), ('サンドイッチA',), ('ブレンドコーヒー',)]"
      ]
     },
     "execution_count": 20,
     "metadata": {},
     "output_type": "execute_result"
    }
   ],
   "source": [
    "ct(\"Q\",4,1,2)\n",
    "exe(\"\"\"\n",
    "select 商品名 from 注文履歴\n",
    "where 日付>='2018-01-01'\n",
    "and  日付<='2018-01-31'\n",
    "order by 商品名\n",
    "\"\"\")"
   ]
  },
  {
   "cell_type": "code",
   "execution_count": 21,
   "metadata": {},
   "outputs": [
    {
     "data": {
      "text/plain": [
       "[(101, 1, 210), (106, 1, 370), (105, 1, 760)]"
      ]
     },
     "execution_count": 21,
     "metadata": {},
     "output_type": "execute_result"
    }
   ],
   "source": [
    "ct(\"Q\",4,1,3)\n",
    "exe(\"\"\"\n",
    "select 注文番号,注文枝番,注文金額 from 注文履歴\n",
    "where 分類='1'\n",
    "order by 注文金額\n",
    "offset 0 rows\n",
    "fetch next 3 rows only\n",
    "\"\"\")\n"
   ]
  },
  {
   "cell_type": "code",
   "execution_count": 22,
   "metadata": {},
   "outputs": [
    {
     "data": {
      "text/plain": [
       "[(datetime.date(2018, 1, 3), 103, 1, 'トートバッグ', '3', 'X', 1500, 3, 4500)]"
      ]
     },
     "execution_count": 22,
     "metadata": {},
     "output_type": "execute_result"
    }
   ],
   "source": [
    "ct(\"Q\",4,1,4)\n",
    "exe(\"\"\"\n",
    "select * from 注文履歴\n",
    "where 分類='3' and 数量>2\n",
    "order by 日付,数量 desc\n",
    "\"\"\")"
   ]
  },
  {
   "cell_type": "code",
   "execution_count": 23,
   "metadata": {},
   "outputs": [
    {
     "data": {
      "text/plain": [
       "[(10,),\n",
       " (2,),\n",
       " (-10,),\n",
       " (5,),\n",
       " (4,),\n",
       " (6,),\n",
       " (9,),\n",
       " (-8,),\n",
       " (-7,),\n",
       " (-2,),\n",
       " (1,),\n",
       " (-4,),\n",
       " (-5,),\n",
       " (-1,),\n",
       " (3,),\n",
       " (-3,),\n",
       " (8,),\n",
       " (-9,),\n",
       " (-6,),\n",
       " (0,),\n",
       " (7,)]"
      ]
     },
     "execution_count": 23,
     "metadata": {},
     "output_type": "execute_result"
    }
   ],
   "source": [
    "ct(\"Q\",4,2,1)\n",
    "exe(\"\"\"\n",
    "select * from 偶数\n",
    "union\n",
    "select * from 奇数\n",
    "\"\"\")"
   ]
  },
  {
   "cell_type": "code",
   "execution_count": 24,
   "metadata": {},
   "outputs": [
    {
     "data": {
      "text/plain": [
       "[(9,), (-5,), (3,), (5,), (-9,), (-1,), (-7,), (7,), (-3,), (1,)]"
      ]
     },
     "execution_count": 24,
     "metadata": {},
     "output_type": "execute_result"
    }
   ],
   "source": [
    "ct(\"Q\",4,2,2)\n",
    "exe(\"\"\"\n",
    "select * from 整数\n",
    "except\n",
    "select * from 偶数\n",
    "\"\"\")"
   ]
  },
  {
   "cell_type": "code",
   "execution_count": null,
   "metadata": {},
   "outputs": [],
   "source": []
  }
 ],
 "metadata": {
  "kernelspec": {
   "display_name": "Python 3",
   "language": "python",
   "name": "python3"
  },
  "language_info": {
   "codemirror_mode": {
    "name": "ipython",
    "version": 3
   },
   "file_extension": ".py",
   "mimetype": "text/x-python",
   "name": "python",
   "nbconvert_exporter": "python",
   "pygments_lexer": "ipython3",
   "version": "3.8.7"
  }
 },
 "nbformat": 4,
 "nbformat_minor": 4
}
