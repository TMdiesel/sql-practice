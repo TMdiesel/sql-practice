{
 "cells": [
  {
   "cell_type": "markdown",
   "metadata": {},
   "source": [
    "## overview"
   ]
  },
  {
   "cell_type": "code",
   "execution_count": 1,
   "metadata": {},
   "outputs": [],
   "source": [
    "# default package\n",
    "import logging\n",
    "import sys \n",
    "import os\n",
    "import pathlib\n",
    "import IPython\n",
    "import random"
   ]
  },
  {
   "cell_type": "code",
   "execution_count": 2,
   "metadata": {},
   "outputs": [],
   "source": [
    "# third party package\n",
    "import pandas as pd \n",
    "import numpy as np\n",
    "import matplotlib.pyplot as plt\n",
    "import seaborn as sns\n",
    "from tqdm import tqdm\n",
    "import psycopg2\n",
    "import sqlalchemy\n",
    "from sqlalchemy.sql.expression import column,select,table\n",
    "from sqlalchemy import create_engine\n",
    "import sklearn.datasets"
   ]
  },
  {
   "cell_type": "code",
   "execution_count": 3,
   "metadata": {},
   "outputs": [],
   "source": [
    "# my package\n",
    "sys.path.append(os.path.join(pathlib.Path().resolve(),\"../\"))"
   ]
  },
  {
   "cell_type": "code",
   "execution_count": 4,
   "metadata": {},
   "outputs": [],
   "source": [
    "# reload settings\n",
    "%load_ext autoreload\n",
    "%autoreload 2"
   ]
  },
  {
   "cell_type": "code",
   "execution_count": 5,
   "metadata": {},
   "outputs": [],
   "source": [
    "# logger\n",
    "logger=logging.getLogger(__name__)\n",
    "logging.basicConfig(level=logging.INFO)"
   ]
  },
  {
   "cell_type": "code",
   "execution_count": 6,
   "metadata": {},
   "outputs": [],
   "source": [
    "## grap setting\n",
    "sns.set()"
   ]
  },
  {
   "cell_type": "code",
   "execution_count": 7,
   "metadata": {},
   "outputs": [
    {
     "name": "stdout",
     "output_type": "stream",
     "text": [
      "False\n"
     ]
    }
   ],
   "source": [
    "## db setting\n",
    "engine = create_engine('postgresql://postgres:postgres@db:5432/postgres')\n",
    "with engine.connect() as conn:\n",
    "    print(conn.closed)"
   ]
  },
  {
   "cell_type": "markdown",
   "metadata": {},
   "source": [
    "## sql to python"
   ]
  },
  {
   "cell_type": "code",
   "execution_count": 8,
   "metadata": {},
   "outputs": [],
   "source": [
    "def ct(file:str,chap_num:int,num:int,sub_num:int=None,engine:sqlalchemy.engine=engine)->None:\n",
    "    \"\"\"\n",
    "    pubulic schema内のtableをすべて削除してから、指定のtable作成\n",
    "    \"\"\"\n",
    "    if sub_num==None: \n",
    "        filename=f\"../code-ssql2/ddl/ssql2-{file}{chap_num:02}_{num:02}\"\n",
    "    else:\n",
    "        filename=f\"../code-ssql2/ddl/ssql2-{file}{chap_num:02}_{num:02}_{sub_num}\"\n",
    "        \n",
    "    with open(filename,\"r\") as f:\n",
    "        stmt=f.read() \n",
    "    with engine.connect() as conn:\n",
    "        conn.execute(\"drop schema public cascade; create schema public;\")\n",
    "        conn.execute(stmt)"
   ]
  },
  {
   "cell_type": "code",
   "execution_count": 9,
   "metadata": {},
   "outputs": [],
   "source": [
    "def exe(stmt:str,engine:sqlalchemy.engine=engine):\n",
    "    \"\"\"\n",
    "    sql実行\n",
    "    \"\"\"\n",
    "    with engine.connect() as conn:\n",
    "        query=conn.execute(stmt)\n",
    "        try:\n",
    "            result=query.fetchall()\n",
    "            return result\n",
    "        except:\n",
    "            return None"
   ]
  },
  {
   "cell_type": "code",
   "execution_count": 10,
   "metadata": {},
   "outputs": [],
   "source": [
    "def exe_df(stmt:str,engine:sqlalchemy.engine=engine)->pd.DataFrame:\n",
    "    \"\"\"\n",
    "    sql(select)を実行してdataframeを返す\n",
    "    \"\"\"\n",
    "    with engine.connect() as conn:\n",
    "        df=pd.read_sql(stmt,conn)\n",
    "    return df "
   ]
  },
  {
   "cell_type": "markdown",
   "metadata": {},
   "source": [
    "## List"
   ]
  },
  {
   "cell_type": "code",
   "execution_count": 20,
   "metadata": {},
   "outputs": [],
   "source": [
    "ct(\"List\",11,1)\n",
    "exe(\"\"\"\n",
    "create index 費目IDインデックス on 家計簿(費目ID);\n",
    "create index メモインデックス on 家計簿(メモ);\n",
    "\"\"\")"
   ]
  },
  {
   "cell_type": "code",
   "execution_count": 23,
   "metadata": {},
   "outputs": [
    {
     "name": "stdout",
     "output_type": "stream",
     "text": [
      "368 µs ± 5.87 µs per loop (mean ± std. dev. of 7 runs, 1000 loops each)\n"
     ]
    }
   ],
   "source": [
    "#11-2\n",
    "exe(\"\"\"\n",
    "select * from 家計簿\n",
    "where メモ='1月の給料'\n",
    "\"\"\")"
   ]
  },
  {
   "cell_type": "code",
   "execution_count": 24,
   "metadata": {},
   "outputs": [],
   "source": [
    "ct(\"List\",11,7)\n",
    "exe(\"\"\"\n",
    "create view 家計簿4月 as \n",
    "select * from 家計簿\n",
    "where 日付>'2018-04-01' \n",
    "and 日付<'2018-04-30'\n",
    "\"\"\")"
   ]
  },
  {
   "cell_type": "code",
   "execution_count": 25,
   "metadata": {},
   "outputs": [
    {
     "data": {
      "text/plain": [
       "[(datetime.date(2018, 4, 2), 3, '不明', 0, 250),\n",
       " (datetime.date(2018, 4, 10), 2, '4月の家賃', 0, 60000),\n",
       " (datetime.date(2018, 4, 11), 1, '給料', 210000, 0),\n",
       " (datetime.date(2018, 4, 12), 3, '不明', 0, 300)]"
      ]
     },
     "execution_count": 25,
     "metadata": {},
     "output_type": "execute_result"
    }
   ],
   "source": [
    "exe(\"\"\"\n",
    "select * from 家計簿4月\n",
    "\"\"\")"
   ]
  },
  {
   "cell_type": "code",
   "execution_count": null,
   "metadata": {},
   "outputs": [],
   "source": []
  },
  {
   "cell_type": "code",
   "execution_count": null,
   "metadata": {},
   "outputs": [],
   "source": []
  },
  {
   "cell_type": "markdown",
   "metadata": {},
   "source": [
    "## Q"
   ]
  },
  {
   "cell_type": "code",
   "execution_count": null,
   "metadata": {},
   "outputs": [],
   "source": []
  }
 ],
 "metadata": {
  "kernelspec": {
   "display_name": "Python 3",
   "language": "python",
   "name": "python3"
  },
  "language_info": {
   "codemirror_mode": {
    "name": "ipython",
    "version": 3
   },
   "file_extension": ".py",
   "mimetype": "text/x-python",
   "name": "python",
   "nbconvert_exporter": "python",
   "pygments_lexer": "ipython3",
   "version": "3.8.7"
  }
 },
 "nbformat": 4,
 "nbformat_minor": 4
}
