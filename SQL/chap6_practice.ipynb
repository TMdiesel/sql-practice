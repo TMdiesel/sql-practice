{
 "cells": [
  {
   "cell_type": "markdown",
   "metadata": {},
   "source": [
    "## overview"
   ]
  },
  {
   "cell_type": "code",
   "execution_count": 1,
   "metadata": {},
   "outputs": [],
   "source": [
    "# default package\n",
    "import logging\n",
    "import sys \n",
    "import os\n",
    "import pathlib\n",
    "import IPython\n",
    "import random"
   ]
  },
  {
   "cell_type": "code",
   "execution_count": 2,
   "metadata": {},
   "outputs": [],
   "source": [
    "# third party package\n",
    "import pandas as pd \n",
    "import numpy as np\n",
    "import matplotlib.pyplot as plt\n",
    "import seaborn as sns\n",
    "from tqdm import tqdm\n",
    "import psycopg2\n",
    "import sqlalchemy\n",
    "from sqlalchemy.sql.expression import column,select,table\n",
    "from sqlalchemy import create_engine\n",
    "import sklearn.datasets"
   ]
  },
  {
   "cell_type": "code",
   "execution_count": 3,
   "metadata": {},
   "outputs": [],
   "source": [
    "# my package\n",
    "sys.path.append(os.path.join(pathlib.Path().resolve(),\"../\"))"
   ]
  },
  {
   "cell_type": "code",
   "execution_count": 4,
   "metadata": {},
   "outputs": [],
   "source": [
    "# reload settings\n",
    "%load_ext autoreload\n",
    "%autoreload 2"
   ]
  },
  {
   "cell_type": "code",
   "execution_count": 5,
   "metadata": {},
   "outputs": [],
   "source": [
    "# logger\n",
    "logger=logging.getLogger(__name__)\n",
    "logging.basicConfig(level=logging.INFO)"
   ]
  },
  {
   "cell_type": "code",
   "execution_count": 6,
   "metadata": {},
   "outputs": [],
   "source": [
    "## grap setting\n",
    "sns.set()"
   ]
  },
  {
   "cell_type": "code",
   "execution_count": 7,
   "metadata": {},
   "outputs": [
    {
     "name": "stdout",
     "output_type": "stream",
     "text": [
      "False\n"
     ]
    }
   ],
   "source": [
    "## db setting\n",
    "engine = create_engine('postgresql://postgres:postgres@db:5432/postgres')\n",
    "with engine.connect() as conn:\n",
    "    print(conn.closed)"
   ]
  },
  {
   "cell_type": "markdown",
   "metadata": {},
   "source": [
    "## sql to python"
   ]
  },
  {
   "cell_type": "code",
   "execution_count": 8,
   "metadata": {},
   "outputs": [],
   "source": [
    "def ct(file:str,chap_num:int,num:int,sub_num:int=None,engine:sqlalchemy.engine=engine)->None:\n",
    "    \"\"\"\n",
    "    pubulic schema内のtableをすべて削除してから、指定のtable作成\n",
    "    \"\"\"\n",
    "    if sub_num==None: \n",
    "        filename=f\"../code-ssql2/ddl/ssql2-{file}{chap_num:02}_{num:02}\"\n",
    "    else:\n",
    "        filename=f\"../code-ssql2/ddl/ssql2-{file}{chap_num:02}_{num:02}_{sub_num}\"\n",
    "        \n",
    "    with open(filename,\"r\") as f:\n",
    "        stmt=f.read() \n",
    "    with engine.connect() as conn:\n",
    "        conn.execute(\"drop schema public cascade; create schema public;\")\n",
    "        conn.execute(stmt)"
   ]
  },
  {
   "cell_type": "code",
   "execution_count": 9,
   "metadata": {},
   "outputs": [],
   "source": [
    "def exe(stmt:str,engine:sqlalchemy.engine=engine):\n",
    "    \"\"\"\n",
    "    sql実行\n",
    "    \"\"\"\n",
    "    with engine.connect() as conn:\n",
    "        query=conn.execute(stmt)\n",
    "        try:\n",
    "            result=query.fetchall()\n",
    "            return result\n",
    "        except:\n",
    "            return None"
   ]
  },
  {
   "cell_type": "code",
   "execution_count": 10,
   "metadata": {},
   "outputs": [],
   "source": [
    "def exe_df(stmt:str,engine:sqlalchemy.engine=engine)->pd.DataFrame:\n",
    "    \"\"\"\n",
    "    sql(select)を実行してdataframeを返す\n",
    "    \"\"\"\n",
    "    with engine.connect() as conn:\n",
    "        df=pd.read_sql(stmt,conn)\n",
    "    return df "
   ]
  },
  {
   "cell_type": "markdown",
   "metadata": {},
   "source": [
    "## List"
   ]
  },
  {
   "cell_type": "code",
   "execution_count": 11,
   "metadata": {},
   "outputs": [
    {
     "data": {
      "text/plain": [
       "[(15740,)]"
      ]
     },
     "execution_count": 11,
     "metadata": {},
     "output_type": "execute_result"
    }
   ],
   "source": [
    "ct(\"List\",6,1)\n",
    "exe(\"\"\"\n",
    "select sum(出金額)\n",
    "from 家計簿\n",
    "\"\"\")"
   ]
  },
  {
   "cell_type": "code",
   "execution_count": 12,
   "metadata": {},
   "outputs": [
    {
     "data": {
      "text/plain": [
       "[(15740, Decimal('3148.0000000000000000'))]"
      ]
     },
     "execution_count": 12,
     "metadata": {},
     "output_type": "execute_result"
    }
   ],
   "source": [
    "ct(\"List\",6,2)\n",
    "exe(\"\"\"\n",
    "select sum(出金額),\n",
    "avg(出金額)\n",
    "from 家計簿\n",
    "\"\"\")"
   ]
  },
  {
   "cell_type": "code",
   "execution_count": 13,
   "metadata": {},
   "outputs": [
    {
     "data": {
      "text/plain": [
       "[(1,)]"
      ]
     },
     "execution_count": 13,
     "metadata": {},
     "output_type": "execute_result"
    }
   ],
   "source": [
    "ct(\"List\",6,3)\n",
    "exe(\"\"\"\n",
    "select count(*) from 家計簿 where 費目='食費'\n",
    "\"\"\")"
   ]
  },
  {
   "cell_type": "code",
   "execution_count": 14,
   "metadata": {},
   "outputs": [
    {
     "data": {
      "text/plain": [
       "[(Decimal('3148.0000000000000000'),)]"
      ]
     },
     "execution_count": 14,
     "metadata": {},
     "output_type": "execute_result"
    }
   ],
   "source": [
    "ct(\"List\",6,5)\n",
    "exe(\"\"\"\n",
    "select avg(coalesce(出金額,0))\n",
    "from 家計簿\n",
    "\"\"\")"
   ]
  },
  {
   "cell_type": "code",
   "execution_count": 15,
   "metadata": {},
   "outputs": [
    {
     "data": {
      "text/plain": [
       "[('食費', 380), ('給料', 0), ('交際費', 5000), ('教養娯楽費', 2800), ('水道光熱費', 7560)]"
      ]
     },
     "execution_count": 15,
     "metadata": {},
     "output_type": "execute_result"
    }
   ],
   "source": [
    "ct(\"List\",6,7)\n",
    "exe(\"\"\"\n",
    "select 費目,sum(出金額)\n",
    "from 家計簿\n",
    "group by 費目\n",
    "\"\"\")"
   ]
  },
  {
   "cell_type": "code",
   "execution_count": 16,
   "metadata": {},
   "outputs": [
    {
     "data": {
      "text/plain": [
       "[('食費', 380), ('交際費', 5000), ('教養娯楽費', 2800), ('水道光熱費', 7560)]"
      ]
     },
     "execution_count": 16,
     "metadata": {},
     "output_type": "execute_result"
    }
   ],
   "source": [
    "ct(\"List\",6,9)\n",
    "exe(\"\"\"\n",
    "select 費目,sum(出金額)\n",
    "from 家計簿\n",
    "group by 費目\n",
    "having sum(出金額)>0\n",
    "\"\"\")"
   ]
  },
  {
   "cell_type": "code",
   "execution_count": 17,
   "metadata": {},
   "outputs": [
    {
     "data": {
      "text/plain": [
       "[(280000, 146140)]"
      ]
     },
     "execution_count": 17,
     "metadata": {},
     "output_type": "execute_result"
    }
   ],
   "source": [
    "ct(\"List\",6,10)\n",
    "exe(\"\"\"\n",
    "select sum(入金額),sum(出金額)\n",
    "from 口座入出金テーブル\n",
    "where 日付>='2017-01-01' and 日付<'2018-01-01'\n",
    "\"\"\")"
   ]
  },
  {
   "cell_type": "markdown",
   "metadata": {},
   "source": [
    "## Q"
   ]
  },
  {
   "cell_type": "code",
   "execution_count": 18,
   "metadata": {},
   "outputs": [
    {
     "data": {
      "text/plain": [
       "[(4312, Decimal('25.6944444444444444'), Decimal('6.0000000000000000'))]"
      ]
     },
     "execution_count": 18,
     "metadata": {},
     "output_type": "execute_result"
    }
   ],
   "source": [
    "ct(\"Q\",6,1,1)\n",
    "exe(\"\"\"\n",
    "select sum(降水量),avg(最高気温),avg(最低気温)\n",
    "from 都市別気象観測\n",
    "\"\"\")"
   ]
  },
  {
   "cell_type": "code",
   "execution_count": 19,
   "metadata": {},
   "outputs": [
    {
     "data": {
      "text/plain": [
       "[('東京', Decimal('127.0000000000000000'), 11, 22),\n",
       " ('博多', Decimal('137.2500000000000000'), 14, 21),\n",
       " ('熊谷', Decimal('91.9166666666666667'), 12, 21),\n",
       " ('奈良', Decimal('130.1666666666666667'), 11, 19)]"
      ]
     },
     "execution_count": 19,
     "metadata": {},
     "output_type": "execute_result"
    }
   ],
   "source": [
    "ct(\"Q\",6,1,3)\n",
    "exe(\"\"\"\n",
    "select 都市名,avg(降水量),min(最高気温),max(最低気温)\n",
    "from 都市別気象観測\n",
    "group by 都市名\n",
    "\"\"\")"
   ]
  },
  {
   "cell_type": "code",
   "execution_count": 20,
   "metadata": {},
   "outputs": [
    {
     "data": {
      "text/plain": [
       "[('熊谷', 38)]"
      ]
     },
     "execution_count": 20,
     "metadata": {},
     "output_type": "execute_result"
    }
   ],
   "source": [
    "ct(\"Q\",6,1,5)\n",
    "exe(\"\"\"\n",
    "select 都市名,max(最高気温)\n",
    "from 都市別気象観測\n",
    "group by 都市名\n",
    "having max(最高気温)>=38\n",
    "\"\"\")"
   ]
  },
  {
   "cell_type": "code",
   "execution_count": 22,
   "metadata": {},
   "outputs": [
    {
     "data": {
      "text/plain": [
       "[(2,)]"
      ]
     },
     "execution_count": 22,
     "metadata": {},
     "output_type": "execute_result"
    }
   ],
   "source": [
    "ct(\"Q\",6,2,1)\n",
    "exe(\"\"\"\n",
    "select count(*)\n",
    "from 入退室管理\n",
    "where 退室 is null\n",
    "\"\"\")"
   ]
  },
  {
   "cell_type": "code",
   "execution_count": 23,
   "metadata": {},
   "outputs": [
    {
     "data": {
      "text/plain": [
       "[('菅原', 3), ('湊', 2), ('朝香', 1)]"
      ]
     },
     "execution_count": 23,
     "metadata": {},
     "output_type": "execute_result"
    }
   ],
   "source": [
    "ct(\"Q\",6,2,2)\n",
    "exe(\"\"\"\n",
    "select 社員名,count(*)\n",
    "from 入退室管理\n",
    "group by 社員名\n",
    "order by 2 desc\n",
    "\"\"\")"
   ]
  },
  {
   "cell_type": "code",
   "execution_count": 24,
   "metadata": {},
   "outputs": [
    {
     "data": {
      "text/plain": [
       "[('リリース作業', 1), ('その他', 1), ('その他', 2), ('メンテナンス', 2)]"
      ]
     },
     "execution_count": 24,
     "metadata": {},
     "output_type": "execute_result"
    }
   ],
   "source": [
    "ct(\"Q\",6,2,3)\n",
    "exe(\"\"\"\n",
    "select \n",
    "case 事由区分\n",
    "when '1' then 'メンテナンス'\n",
    "when '2' then 'リリース作業'\n",
    "else 'その他'\n",
    "end\n",
    ",count(*)\n",
    "from 入退室管理\n",
    "group by 事由区分\n",
    "\"\"\")"
   ]
  },
  {
   "cell_type": "code",
   "execution_count": 25,
   "metadata": {},
   "outputs": [
    {
     "data": {
      "text/plain": [
       "[('菅原', 12)]"
      ]
     },
     "execution_count": 25,
     "metadata": {},
     "output_type": "execute_result"
    }
   ],
   "source": [
    "ct(\"Q\",6,2,4)\n",
    "exe(\"\"\"\n",
    "select 社員名,count(*)\n",
    "from 入退室管理\n",
    "group by 社員名\n",
    "having count(*)>10\n",
    "\"\"\")"
   ]
  },
  {
   "cell_type": "code",
   "execution_count": 26,
   "metadata": {},
   "outputs": [
    {
     "data": {
      "text/plain": [
       "[(datetime.date(2018, 2, 5), 2),\n",
       " (datetime.date(2018, 2, 13), 3),\n",
       " (datetime.date(2018, 2, 17), 1),\n",
       " (datetime.date(2018, 2, 18), 1)]"
      ]
     },
     "execution_count": 26,
     "metadata": {},
     "output_type": "execute_result"
    }
   ],
   "source": [
    "ct(\"Q\",6,2,5)\n",
    "exe(\"\"\"\n",
    "select 日付,count(社員名)\n",
    "from 入退室管理\n",
    "where 事由区分='3'\n",
    "group by 日付\n",
    "\"\"\")"
   ]
  },
  {
   "cell_type": "code",
   "execution_count": null,
   "metadata": {},
   "outputs": [],
   "source": []
  }
 ],
 "metadata": {
  "kernelspec": {
   "display_name": "Python 3",
   "language": "python",
   "name": "python3"
  },
  "language_info": {
   "codemirror_mode": {
    "name": "ipython",
    "version": 3
   },
   "file_extension": ".py",
   "mimetype": "text/x-python",
   "name": "python",
   "nbconvert_exporter": "python",
   "pygments_lexer": "ipython3",
   "version": "3.8.7"
  }
 },
 "nbformat": 4,
 "nbformat_minor": 4
}
