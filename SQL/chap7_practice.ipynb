{
 "cells": [
  {
   "cell_type": "markdown",
   "metadata": {},
   "source": [
    "## overview"
   ]
  },
  {
   "cell_type": "code",
   "execution_count": 1,
   "metadata": {},
   "outputs": [],
   "source": [
    "# default package\n",
    "import logging\n",
    "import sys \n",
    "import os\n",
    "import pathlib\n",
    "import IPython\n",
    "import random"
   ]
  },
  {
   "cell_type": "code",
   "execution_count": 2,
   "metadata": {},
   "outputs": [],
   "source": [
    "# third party package\n",
    "import pandas as pd \n",
    "import numpy as np\n",
    "import matplotlib.pyplot as plt\n",
    "import seaborn as sns\n",
    "from tqdm import tqdm\n",
    "import psycopg2\n",
    "import sqlalchemy\n",
    "from sqlalchemy.sql.expression import column,select,table\n",
    "from sqlalchemy import create_engine\n",
    "import sklearn.datasets"
   ]
  },
  {
   "cell_type": "code",
   "execution_count": 3,
   "metadata": {},
   "outputs": [],
   "source": [
    "# my package\n",
    "sys.path.append(os.path.join(pathlib.Path().resolve(),\"../\"))"
   ]
  },
  {
   "cell_type": "code",
   "execution_count": 4,
   "metadata": {},
   "outputs": [],
   "source": [
    "# reload settings\n",
    "%load_ext autoreload\n",
    "%autoreload 2"
   ]
  },
  {
   "cell_type": "code",
   "execution_count": 5,
   "metadata": {},
   "outputs": [],
   "source": [
    "# logger\n",
    "logger=logging.getLogger(__name__)\n",
    "logging.basicConfig(level=logging.INFO)"
   ]
  },
  {
   "cell_type": "code",
   "execution_count": 6,
   "metadata": {},
   "outputs": [],
   "source": [
    "## grap setting\n",
    "sns.set()"
   ]
  },
  {
   "cell_type": "code",
   "execution_count": 7,
   "metadata": {},
   "outputs": [
    {
     "name": "stdout",
     "output_type": "stream",
     "text": [
      "False\n"
     ]
    }
   ],
   "source": [
    "## db setting\n",
    "engine = create_engine('postgresql://postgres:postgres@db:5432/postgres')\n",
    "with engine.connect() as conn:\n",
    "    print(conn.closed)"
   ]
  },
  {
   "cell_type": "markdown",
   "metadata": {},
   "source": [
    "## sql to python"
   ]
  },
  {
   "cell_type": "code",
   "execution_count": 8,
   "metadata": {},
   "outputs": [],
   "source": [
    "def ct(file:str,chap_num:int,num:int,sub_num:int=None,engine:sqlalchemy.engine=engine)->None:\n",
    "    \"\"\"\n",
    "    pubulic schema内のtableをすべて削除してから、指定のtable作成\n",
    "    \"\"\"\n",
    "    if sub_num==None: \n",
    "        filename=f\"../code-ssql2/ddl/ssql2-{file}{chap_num:02}_{num:02}\"\n",
    "    else:\n",
    "        filename=f\"../code-ssql2/ddl/ssql2-{file}{chap_num:02}_{num:02}_{sub_num}\"\n",
    "        \n",
    "    with open(filename,\"r\") as f:\n",
    "        stmt=f.read() \n",
    "    with engine.connect() as conn:\n",
    "        conn.execute(\"drop schema public cascade; create schema public;\")\n",
    "        conn.execute(stmt)"
   ]
  },
  {
   "cell_type": "code",
   "execution_count": 9,
   "metadata": {},
   "outputs": [],
   "source": [
    "def exe(stmt:str,engine:sqlalchemy.engine=engine):\n",
    "    \"\"\"\n",
    "    sql実行\n",
    "    \"\"\"\n",
    "    with engine.connect() as conn:\n",
    "        query=conn.execute(stmt)\n",
    "        try:\n",
    "            result=query.fetchall()\n",
    "            return result\n",
    "        except:\n",
    "            return None"
   ]
  },
  {
   "cell_type": "code",
   "execution_count": 10,
   "metadata": {},
   "outputs": [],
   "source": [
    "def exe_df(stmt:str,engine:sqlalchemy.engine=engine)->pd.DataFrame:\n",
    "    \"\"\"\n",
    "    sql(select)を実行してdataframeを返す\n",
    "    \"\"\"\n",
    "    with engine.connect() as conn:\n",
    "        df=pd.read_sql(stmt,conn)\n",
    "    return df "
   ]
  },
  {
   "cell_type": "markdown",
   "metadata": {},
   "source": [
    "## List"
   ]
  },
  {
   "cell_type": "code",
   "execution_count": 11,
   "metadata": {},
   "outputs": [
    {
     "data": {
      "text/plain": [
       "[('水道光熱費', 7560)]"
      ]
     },
     "execution_count": 11,
     "metadata": {},
     "output_type": "execute_result"
    }
   ],
   "source": [
    "ct(\"List\",7,2)\n",
    "exe(\"\"\"\n",
    "select 費目,出金額 from 家計簿\n",
    "where 出金額=(select max(出金額) from 家計簿)\n",
    "\"\"\")"
   ]
  },
  {
   "cell_type": "code",
   "execution_count": 12,
   "metadata": {},
   "outputs": [
    {
     "data": {
      "text/plain": [
       "[('居住費', 160000, 80000, 80000, 80000, 3),\n",
       " ('水道光熱費', 11760, 5880, 7560, 4200, 2),\n",
       " ('教養娯楽費', 4600, 2300, 2800, 1800, 2),\n",
       " ('給料', 840000, 280000, 280000, 280000, 3),\n",
       " ('食費', 10380, 5000, 5000, 380, 3)]"
      ]
     },
     "execution_count": 12,
     "metadata": {},
     "output_type": "execute_result"
    }
   ],
   "source": [
    "ct(\"List\",7,3)\n",
    "exe(\"\"\"\n",
    "update 家計簿集計\n",
    "set 平均=(select avg(出金額)\n",
    "from 家計簿アーカイブ\n",
    "where 出金額>0\n",
    "and 費目='食費'\n",
    ")\n",
    "where 費目='食費'\n",
    "\"\"\")\n",
    "exe(\"select * from 家計簿集計\")"
   ]
  },
  {
   "cell_type": "code",
   "execution_count": 13,
   "metadata": {},
   "outputs": [
    {
     "data": {
      "text/plain": [
       "[(datetime.date(2017, 12, 10), 10380),\n",
       " (datetime.date(2017, 12, 18), 10380),\n",
       " (datetime.date(2017, 12, 24), 10380),\n",
       " (datetime.date(2017, 12, 25), 10380),\n",
       " (datetime.date(2018, 1, 10), 10380),\n",
       " (datetime.date(2018, 1, 13), 10380),\n",
       " (datetime.date(2018, 1, 13), 10380),\n",
       " (datetime.date(2018, 1, 25), 10380)]"
      ]
     },
     "execution_count": 13,
     "metadata": {},
     "output_type": "execute_result"
    }
   ],
   "source": [
    "ct(\"List\",7,4)\n",
    "exe(\"\"\"\n",
    "select 日付,(select 合計 from 家計簿集計 where 費目='食費')\n",
    "from 家計簿アーカイブ\n",
    "\"\"\")"
   ]
  },
  {
   "cell_type": "code",
   "execution_count": 14,
   "metadata": {},
   "outputs": [
    {
     "data": {
      "text/plain": [
       "[('水道光熱費', 11760, 5880, 7560, 4200, 2), ('食費', 10380, 3460, 5000, 380, 3)]"
      ]
     },
     "execution_count": 14,
     "metadata": {},
     "output_type": "execute_result"
    }
   ],
   "source": [
    "ct(\"List\",7,5)\n",
    "exe(\"\"\"\n",
    "select * from 家計簿集計\n",
    "where 費目 in ('食費','水道光熱費')\n",
    "\"\"\")"
   ]
  },
  {
   "cell_type": "code",
   "execution_count": 15,
   "metadata": {},
   "outputs": [
    {
     "data": {
      "text/plain": [
       "[('水道光熱費', 11760, 5880, 7560, 4200, 2),\n",
       " ('食費', 10380, 3460, 5000, 380, 3),\n",
       " ('教養娯楽費', 4600, 2300, 2800, 1800, 2),\n",
       " ('給料', 840000, 280000, 280000, 280000, 3)]"
      ]
     },
     "execution_count": 15,
     "metadata": {},
     "output_type": "execute_result"
    }
   ],
   "source": [
    "ct(\"List\",7,6)\n",
    "exe(\"\"\"\n",
    "select * from 家計簿集計\n",
    "where 費目 in (select distinct 費目 from 家計簿)\n",
    "\"\"\")"
   ]
  },
  {
   "cell_type": "code",
   "execution_count": 16,
   "metadata": {},
   "outputs": [
    {
     "data": {
      "text/plain": [
       "[(datetime.date(2018, 2, 3), '食費', 'コーヒーを購入', 0, 380)]"
      ]
     },
     "execution_count": 16,
     "metadata": {},
     "output_type": "execute_result"
    }
   ],
   "source": [
    "ct(\"List\",7,7)\n",
    "exe(\"\"\"\n",
    "select * from 家計簿\n",
    "where 費目='食費'\n",
    "and 出金額<\n",
    "any(select 出金額 from 家計簿アーカイブ\n",
    "where 費目='食費')\n",
    "\"\"\")"
   ]
  },
  {
   "cell_type": "code",
   "execution_count": 17,
   "metadata": {},
   "outputs": [
    {
     "data": {
      "text/plain": [
       "[(datetime.date(2017, 12, 10), '給料', '11月の給料', 280000, 0),\n",
       " (datetime.date(2017, 12, 18), '水道光熱費', '水道代', 0, 4200),\n",
       " (datetime.date(2017, 12, 24), '食費', 'レストランみやび', 0, 5000),\n",
       " (datetime.date(2018, 1, 10), '給料', '12月の給料', 280000, 0),\n",
       " (datetime.date(2018, 1, 13), '教養娯楽費', 'スッキリシネマズ', 0, 1800),\n",
       " (datetime.date(2018, 1, 13), '食費', '新年会', 0, 5000)]"
      ]
     },
     "execution_count": 17,
     "metadata": {},
     "output_type": "execute_result"
    }
   ],
   "source": [
    "ct(\"List\",7,8)\n",
    "exe(\"\"\"\n",
    "select * from 家計簿アーカイブ\n",
    "where 費目 in (select 費目 from 家計簿\n",
    "where 費目 is not null)\n",
    "\"\"\")"
   ]
  },
  {
   "cell_type": "code",
   "execution_count": 18,
   "metadata": {},
   "outputs": [
    {
     "data": {
      "text/plain": [
       "[(102540,)]"
      ]
     },
     "execution_count": 18,
     "metadata": {},
     "output_type": "execute_result"
    }
   ],
   "source": [
    "ct(\"List\",7,11)\n",
    "exe(\"\"\"\n",
    "select sum(sub.出金額) as 出金額合計\n",
    "from \n",
    "(select 日付,費目,出金額\n",
    "from 家計簿\n",
    "union\n",
    "select 日付,費目,出金額\n",
    "from 家計簿アーカイブ\n",
    "where 日付>='2018-01-01'\n",
    "and\n",
    "日付<='2018-01-31') as sub\n",
    "\"\"\")"
   ]
  },
  {
   "cell_type": "code",
   "execution_count": 19,
   "metadata": {},
   "outputs": [
    {
     "data": {
      "text/html": [
       "<div>\n",
       "<style scoped>\n",
       "    .dataframe tbody tr th:only-of-type {\n",
       "        vertical-align: middle;\n",
       "    }\n",
       "\n",
       "    .dataframe tbody tr th {\n",
       "        vertical-align: top;\n",
       "    }\n",
       "\n",
       "    .dataframe thead th {\n",
       "        text-align: right;\n",
       "    }\n",
       "</style>\n",
       "<table border=\"1\" class=\"dataframe\">\n",
       "  <thead>\n",
       "    <tr style=\"text-align: right;\">\n",
       "      <th></th>\n",
       "      <th>費目</th>\n",
       "      <th>合計</th>\n",
       "      <th>平均</th>\n",
       "      <th>最大</th>\n",
       "      <th>最小</th>\n",
       "      <th>回数</th>\n",
       "    </tr>\n",
       "  </thead>\n",
       "  <tbody>\n",
       "    <tr>\n",
       "      <th>0</th>\n",
       "      <td>食費</td>\n",
       "      <td>5580</td>\n",
       "      <td>2790</td>\n",
       "      <td>None</td>\n",
       "      <td>None</td>\n",
       "      <td>0</td>\n",
       "    </tr>\n",
       "    <tr>\n",
       "      <th>1</th>\n",
       "      <td>交際費</td>\n",
       "      <td>5000</td>\n",
       "      <td>5000</td>\n",
       "      <td>None</td>\n",
       "      <td>None</td>\n",
       "      <td>0</td>\n",
       "    </tr>\n",
       "    <tr>\n",
       "      <th>2</th>\n",
       "      <td>教養娯楽費</td>\n",
       "      <td>2800</td>\n",
       "      <td>2800</td>\n",
       "      <td>None</td>\n",
       "      <td>None</td>\n",
       "      <td>0</td>\n",
       "    </tr>\n",
       "    <tr>\n",
       "      <th>3</th>\n",
       "      <td>水道光熱費</td>\n",
       "      <td>7560</td>\n",
       "      <td>7560</td>\n",
       "      <td>None</td>\n",
       "      <td>None</td>\n",
       "      <td>0</td>\n",
       "    </tr>\n",
       "  </tbody>\n",
       "</table>\n",
       "</div>"
      ],
      "text/plain": [
       "      費目    合計    平均    最大    最小  回数\n",
       "0     食費  5580  2790  None  None   0\n",
       "1    交際費  5000  5000  None  None   0\n",
       "2  教養娯楽費  2800  2800  None  None   0\n",
       "3  水道光熱費  7560  7560  None  None   0"
      ]
     },
     "execution_count": 19,
     "metadata": {},
     "output_type": "execute_result"
    }
   ],
   "source": [
    "ct(\"List\",7,12)\n",
    "exe(\"\"\"\n",
    "insert into 家計簿集計 (費目,合計,平均,回数)\n",
    "select 費目,sum(出金額),avg(出金額),0\n",
    "from 家計簿 where 出金額>0\n",
    "group by 費目\n",
    "\"\"\")\n",
    "exe_df(\"select * from 家計簿集計\")"
   ]
  },
  {
   "cell_type": "markdown",
   "metadata": {},
   "source": [
    "## Q"
   ]
  },
  {
   "cell_type": "code",
   "execution_count": 20,
   "metadata": {},
   "outputs": [
    {
     "data": {
      "text/plain": [
       "[('千葉県', 3), ('群馬県', 2), ('岩手県', 1), ('北海道', 4)]"
      ]
     },
     "execution_count": 20,
     "metadata": {},
     "output_type": "execute_result"
    }
   ],
   "source": [
    "ct(\"Q\",7,3,1)\n",
    "exe(\"\"\"\n",
    "insert into 頭数集計 (飼育県,頭数)\n",
    "select 飼育県,count(*) from 個体識別\n",
    "group by 飼育県\n",
    "\"\"\")\n",
    "exe(\"select * from 頭数集計\")"
   ]
  },
  {
   "cell_type": "code",
   "execution_count": 21,
   "metadata": {},
   "outputs": [
    {
     "data": {
      "text/plain": [
       "[('千葉県', '1211', '2', '雌'),\n",
       " ('群馬県', '4530', '2', '雌'),\n",
       " ('千葉県', '2237', '1', '雄'),\n",
       " ('北海道', '8105', '1', '雄'),\n",
       " ('北海道', '1097', '2', '雌'),\n",
       " ('北海道', '5014', '1', '雄'),\n",
       " ('北海道', '5513', '2', '雌'),\n",
       " ('千葉県', '1164', '1', '雄'),\n",
       " ('群馬県', '1097', '1', '雄')]"
      ]
     },
     "execution_count": 21,
     "metadata": {},
     "output_type": "execute_result"
    }
   ],
   "source": [
    "ct(\"Q\",7,3,2)\n",
    "exe(\"\"\"\n",
    "select 飼育県,個体識別番号,雌雄コード,\n",
    "case 雌雄コード when '1' then '雄'\n",
    "else  '雌'\n",
    "end\n",
    "from 個体識別\n",
    "where 飼育県 in\n",
    "(select 飼育県 from 頭数集計\n",
    "order by 頭数 desc\n",
    "offset 0 rows fetch next 3 rows only)\n",
    "\"\"\")"
   ]
  },
  {
   "cell_type": "code",
   "execution_count": null,
   "metadata": {},
   "outputs": [],
   "source": []
  }
 ],
 "metadata": {
  "kernelspec": {
   "display_name": "Python 3",
   "language": "python",
   "name": "python3"
  },
  "language_info": {
   "codemirror_mode": {
    "name": "ipython",
    "version": 3
   },
   "file_extension": ".py",
   "mimetype": "text/x-python",
   "name": "python",
   "nbconvert_exporter": "python",
   "pygments_lexer": "ipython3",
   "version": "3.8.7"
  }
 },
 "nbformat": 4,
 "nbformat_minor": 4
}
