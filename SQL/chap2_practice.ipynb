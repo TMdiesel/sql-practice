{
 "cells": [
  {
   "cell_type": "markdown",
   "metadata": {},
   "source": [
    "## overview"
   ]
  },
  {
   "cell_type": "code",
   "execution_count": 1,
   "metadata": {},
   "outputs": [],
   "source": [
    "# default package\n",
    "import logging\n",
    "import sys \n",
    "import os\n",
    "import pathlib\n",
    "import IPython\n",
    "import random"
   ]
  },
  {
   "cell_type": "code",
   "execution_count": 2,
   "metadata": {},
   "outputs": [],
   "source": [
    "# third party package\n",
    "import pandas as pd \n",
    "import numpy as np\n",
    "import matplotlib.pyplot as plt\n",
    "import seaborn as sns\n",
    "from tqdm import tqdm\n",
    "import psycopg2\n",
    "import sqlalchemy\n",
    "from sqlalchemy.sql.expression import column,select,table\n",
    "from sqlalchemy import create_engine\n",
    "import sklearn.datasets"
   ]
  },
  {
   "cell_type": "code",
   "execution_count": 3,
   "metadata": {},
   "outputs": [],
   "source": [
    "# my package\n",
    "sys.path.append(os.path.join(pathlib.Path().resolve(),\"../\"))"
   ]
  },
  {
   "cell_type": "code",
   "execution_count": 4,
   "metadata": {},
   "outputs": [],
   "source": [
    "# reload settings\n",
    "%load_ext autoreload\n",
    "%autoreload 2"
   ]
  },
  {
   "cell_type": "code",
   "execution_count": 5,
   "metadata": {},
   "outputs": [],
   "source": [
    "# logger\n",
    "logger=logging.getLogger(__name__)\n",
    "logging.basicConfig(level=logging.INFO)"
   ]
  },
  {
   "cell_type": "code",
   "execution_count": 6,
   "metadata": {},
   "outputs": [],
   "source": [
    "## grap setting\n",
    "sns.set()"
   ]
  },
  {
   "cell_type": "code",
   "execution_count": 7,
   "metadata": {},
   "outputs": [
    {
     "name": "stdout",
     "output_type": "stream",
     "text": [
      "False\n"
     ]
    }
   ],
   "source": [
    "## db setting\n",
    "engine = create_engine('postgresql://postgres:postgres@db:5432/postgres')\n",
    "with engine.connect() as conn:\n",
    "    print(conn.closed)"
   ]
  },
  {
   "cell_type": "markdown",
   "metadata": {},
   "source": [
    "## sql to python"
   ]
  },
  {
   "cell_type": "code",
   "execution_count": 8,
   "metadata": {},
   "outputs": [],
   "source": [
    "def ct(file:str,chap_num:int,num:int,sub_num:int=None,engine:sqlalchemy.engine=engine)->None:\n",
    "    \"\"\"\n",
    "    pubulic schema内のtableをすべて削除してから、指定のtable作成\n",
    "    \"\"\"\n",
    "    if sub_num==None: \n",
    "        filename=f\"../code-ssql2/ddl/ssql2-{file}{chap_num:02}_{num:02}\"\n",
    "    else:\n",
    "        filename=f\"../code-ssql2/ddl/ssql2-{file}{chap_num:02}_{num:02}_{sub_num}\"\n",
    "        \n",
    "    with open(filename,\"r\") as f:\n",
    "        stmt=f.read() \n",
    "    with engine.connect() as conn:\n",
    "        conn.execute(\"drop schema public cascade; create schema public;\")\n",
    "        conn.execute(stmt)"
   ]
  },
  {
   "cell_type": "code",
   "execution_count": 9,
   "metadata": {},
   "outputs": [],
   "source": [
    "def exe(stmt:str,engine:sqlalchemy.engine=engine):\n",
    "    \"\"\"\n",
    "    sql実行\n",
    "    \"\"\"\n",
    "    with engine.connect() as conn:\n",
    "        query=conn.execute(stmt)\n",
    "        try:\n",
    "            result=query.fetchall()\n",
    "            return result\n",
    "        except:\n",
    "            return None"
   ]
  },
  {
   "cell_type": "markdown",
   "metadata": {},
   "source": [
    "## List"
   ]
  },
  {
   "cell_type": "code",
   "execution_count": 10,
   "metadata": {},
   "outputs": [
    {
     "data": {
      "text/plain": [
       "[('交際費', 5000), ('水道光熱費', 7560)]"
      ]
     },
     "execution_count": 10,
     "metadata": {},
     "output_type": "execute_result"
    }
   ],
   "source": [
    "ct(\"List\",2,2)\n",
    "exe(\"\"\"\n",
    "select 費目,出金額\n",
    "from 家計簿\n",
    "where 出金額>3000\n",
    "\"\"\")"
   ]
  },
  {
   "cell_type": "code",
   "execution_count": 11,
   "metadata": {},
   "outputs": [
    {
     "data": {
      "text/plain": [
       "[('交際費', 5000), ('水道光熱費', 7560)]"
      ]
     },
     "execution_count": 11,
     "metadata": {},
     "output_type": "execute_result"
    }
   ],
   "source": [
    "ct(\"List\",2,3)\n",
    "exe(\"\"\"\n",
    "/*coment*/\n",
    "select 費目,出金額  --coment\n",
    "from 家計簿\n",
    "where 出金額>3000\n",
    "\"\"\")"
   ]
  },
  {
   "cell_type": "code",
   "execution_count": 12,
   "metadata": {},
   "outputs": [
    {
     "data": {
      "text/html": [
       "<div>\n",
       "<style scoped>\n",
       "    .dataframe tbody tr th:only-of-type {\n",
       "        vertical-align: middle;\n",
       "    }\n",
       "\n",
       "    .dataframe tbody tr th {\n",
       "        vertical-align: top;\n",
       "    }\n",
       "\n",
       "    .dataframe thead th {\n",
       "        text-align: right;\n",
       "    }\n",
       "</style>\n",
       "<table border=\"1\" class=\"dataframe\">\n",
       "  <thead>\n",
       "    <tr style=\"text-align: right;\">\n",
       "      <th></th>\n",
       "      <th>item</th>\n",
       "      <th>receive</th>\n",
       "    </tr>\n",
       "  </thead>\n",
       "  <tbody>\n",
       "    <tr>\n",
       "      <th>0</th>\n",
       "      <td>給料</td>\n",
       "      <td>0</td>\n",
       "    </tr>\n",
       "  </tbody>\n",
       "</table>\n",
       "</div>"
      ],
      "text/plain": [
       "  item  receive\n",
       "0   給料        0"
      ]
     },
     "execution_count": 12,
     "metadata": {},
     "output_type": "execute_result"
    }
   ],
   "source": [
    "ct(\"List\",2,7)\n",
    "stmt=\"\"\"\n",
    "select 費目 as item, 出金額  as receive\n",
    "from 家計簿 as moneybook\n",
    "where 費目='給料'\n",
    "\"\"\"\n",
    "with engine.connect() as conn:\n",
    "    df=pd.read_sql(stmt,conn)\n",
    "df"
   ]
  },
  {
   "cell_type": "code",
   "execution_count": 13,
   "metadata": {},
   "outputs": [
    {
     "data": {
      "text/plain": [
       "[(datetime.date(2018, 2, 3), '食費', 'コーヒーを購入', 99999, 380),\n",
       " (datetime.date(2018, 2, 10), '給料', '1月の給料', 99999, 0),\n",
       " (datetime.date(2018, 2, 11), '教養娯楽費', '書籍を購入', 99999, 2800),\n",
       " (datetime.date(2018, 2, 14), '交際費', '同期会の会費', 99999, 5000),\n",
       " (datetime.date(2018, 2, 18), '水道光熱費', '1月の電気代', 99999, 7560)]"
      ]
     },
     "execution_count": 13,
     "metadata": {},
     "output_type": "execute_result"
    }
   ],
   "source": [
    "ct(\"List\",2,8)\n",
    "exe(\"\"\"\n",
    "update 家計簿\n",
    "set 入金額=99999\n",
    "\"\"\")\n",
    "exe(\"select * from 家計簿\")"
   ]
  },
  {
   "cell_type": "code",
   "execution_count": 14,
   "metadata": {},
   "outputs": [
    {
     "data": {
      "text/plain": [
       "[(datetime.date(2018, 2, 10), '給料', '1月の給料', 280000, 0),\n",
       " (datetime.date(2018, 2, 11), '教養娯楽費', '書籍を購入', 0, 2800),\n",
       " (datetime.date(2018, 2, 14), '交際費', '同期会の会費', 0, 5000),\n",
       " (datetime.date(2018, 2, 18), '水道光熱費', '1月の電気代', 0, 7560),\n",
       " (datetime.date(2018, 2, 3), '食費', 'コーヒーを購入', 99999, 380)]"
      ]
     },
     "execution_count": 14,
     "metadata": {},
     "output_type": "execute_result"
    }
   ],
   "source": [
    "ct(\"List\",2,9)\n",
    "exe(\"\"\"\n",
    "update 家計簿\n",
    "set 入金額=99999\n",
    "where 日付='2018-02-03'\n",
    "\"\"\")\n",
    "exe(\"select * from 家計簿\")"
   ]
  },
  {
   "cell_type": "code",
   "execution_count": 15,
   "metadata": {},
   "outputs": [
    {
     "data": {
      "text/plain": [
       "[(datetime.date(2018, 2, 10), '給料', '1月の給料', 280000, 0),\n",
       " (datetime.date(2018, 2, 11), '教養娯楽費', '書籍を購入', 0, 2800),\n",
       " (datetime.date(2018, 2, 14), '交際費', '同期会の会費', 0, 5000),\n",
       " (datetime.date(2018, 2, 18), '水道光熱費', '1月の電気代', 0, 7560)]"
      ]
     },
     "execution_count": 15,
     "metadata": {},
     "output_type": "execute_result"
    }
   ],
   "source": [
    "ct(\"List\",2,11)\n",
    "exe(\"\"\"\n",
    "delete from 家計簿\n",
    "where 日付='2018-02-03'\n",
    "\"\"\")\n",
    "exe(\"select * from 家計簿\")"
   ]
  },
  {
   "cell_type": "code",
   "execution_count": 16,
   "metadata": {},
   "outputs": [
    {
     "data": {
      "text/plain": [
       "[(datetime.date(2018, 2, 3), '食費', 'コーヒーを購入', 0, 380),\n",
       " (datetime.date(2018, 2, 10), '給料', '1月の給料', 280000, 0),\n",
       " (datetime.date(2018, 2, 11), '教養娯楽費', '書籍を購入', 0, 2800),\n",
       " (datetime.date(2018, 2, 14), '交際費', '同期会の会費', 0, 5000),\n",
       " (datetime.date(2018, 2, 18), '水道光熱費', '1月の電気代', 0, 7560),\n",
       " (datetime.date(2018, 2, 20), '通信費', None, None, 6200)]"
      ]
     },
     "execution_count": 16,
     "metadata": {},
     "output_type": "execute_result"
    }
   ],
   "source": [
    "ct(\"List\",2,11)\n",
    "exe(\"\"\"\n",
    "insert into 家計簿\n",
    "(費目,日付,出金額)\n",
    "values ('通信費','2018-02-20',6200)\n",
    "\"\"\")\n",
    "exe(\"select * from 家計簿\")"
   ]
  },
  {
   "cell_type": "code",
   "execution_count": 17,
   "metadata": {},
   "outputs": [
    {
     "data": {
      "text/plain": [
       "[(datetime.date(2018, 2, 3), '食費', 'コーヒーを購入', 0, 380),\n",
       " (datetime.date(2018, 2, 10), '給料', '1月の給料', 280000, 0),\n",
       " (datetime.date(2018, 2, 11), '教養娯楽費', '書籍を購入', 0, 2800),\n",
       " (datetime.date(2018, 2, 14), '交際費', '同期会の会費', 0, 5000),\n",
       " (datetime.date(2018, 2, 18), '水道光熱費', '1月の電気代', 0, 7560),\n",
       " (datetime.date(2018, 2, 20), '通信費', '携帯電話料金', 0, 6200)]"
      ]
     },
     "execution_count": 17,
     "metadata": {},
     "output_type": "execute_result"
    }
   ],
   "source": [
    "ct(\"List\",2,12)\n",
    "exe(\"\"\"\n",
    "insert into 家計簿\n",
    "values ('2018-02-20','通信費','携帯電話料金',0,6200)\n",
    "\"\"\")\n",
    "exe(\"select * from 家計簿\")"
   ]
  },
  {
   "cell_type": "markdown",
   "metadata": {},
   "source": [
    "## Q"
   ]
  },
  {
   "cell_type": "code",
   "execution_count": 18,
   "metadata": {},
   "outputs": [
    {
     "data": {
      "text/plain": [
       "[('01', '北海道', '北海道', '札幌市', 83456),\n",
       " ('05', '東北', '秋田県', '秋田市', 11612),\n",
       " ('13', '関東', '東京都', '新宿区', 2187),\n",
       " ('16', '北陸', '富山県', '富山市', 4247),\n",
       " ('20', '甲信', '長野県', '長野市', 13562),\n",
       " ('21', '東海', '岐阜県', '岐阜市', 10621),\n",
       " ('34', '中国', '広島県', '広島市', 8478)]"
      ]
     },
     "execution_count": 18,
     "metadata": {},
     "output_type": "execute_result"
    }
   ],
   "source": [
    "ct(\"Q\",2,3,1)\n",
    "exe(\"\"\"\n",
    "select コード,地域,都道府県名,県庁所在地,面積\n",
    "from 都道府県\n",
    "\"\"\")"
   ]
  },
  {
   "cell_type": "code",
   "execution_count": 19,
   "metadata": {},
   "outputs": [
    {
     "data": {
      "text/plain": [
       "[('01', '北海道', '北海道', '札幌市', 83456),\n",
       " ('05', '東北', '秋田県', '秋田市', 11612),\n",
       " ('13', '関東', '東京都', '新宿区', 2187),\n",
       " ('16', '北陸', '富山県', '富山市', 4247),\n",
       " ('20', '甲信', '長野県', '長野市', 13562),\n",
       " ('21', '東海', '岐阜県', '岐阜市', 10621),\n",
       " ('34', '中国', '広島県', '広島市', 8478)]"
      ]
     },
     "execution_count": 19,
     "metadata": {},
     "output_type": "execute_result"
    }
   ],
   "source": [
    "ct(\"Q\",2,3,2)\n",
    "exe(\"\"\"\n",
    "select *\n",
    "from 都道府県\n",
    "\"\"\")"
   ]
  },
  {
   "cell_type": "code",
   "execution_count": 20,
   "metadata": {},
   "outputs": [
    {
     "data": {
      "text/plain": [
       "[('北海道', '北海道'),\n",
       " ('東北', '秋田県'),\n",
       " ('関東', '東京都'),\n",
       " ('北陸', '富山県'),\n",
       " ('甲信', '長野県'),\n",
       " ('東海', '岐阜県'),\n",
       " ('中国', '広島県')]"
      ]
     },
     "execution_count": 20,
     "metadata": {},
     "output_type": "execute_result"
    }
   ],
   "source": [
    "ct(\"Q\",2,3,3)\n",
    "exe(\"\"\"\n",
    "select 地域 as area,都道府県名 as pref\n",
    "from 都道府県\n",
    "\"\"\")"
   ]
  },
  {
   "cell_type": "code",
   "execution_count": 21,
   "metadata": {},
   "outputs": [
    {
     "data": {
      "text/plain": [
       "[('01', '北海道', '北海道', '札幌市', 83456),\n",
       " ('05', '東北', '秋田県', '秋田市', 11612),\n",
       " ('13', '関東', '東京都', '新宿区', 2187),\n",
       " ('16', '北陸', '富山県', '富山市', 4247),\n",
       " ('20', '甲信', '長野県', '長野市', 13562),\n",
       " ('21', '東海', '岐阜県', '岐阜市', 10621),\n",
       " ('34', '中国', '広島県', '広島市', 8478),\n",
       " ('26', '近畿', '京都', None, 4613),\n",
       " ('37', '四国', '香川', '高松', 1876),\n",
       " (None, None, '福岡', '福岡', None)]"
      ]
     },
     "execution_count": 21,
     "metadata": {},
     "output_type": "execute_result"
    }
   ],
   "source": [
    "ct(\"Q\",2,4,1)\n",
    "exe(\"\"\"\n",
    "insert into 都道府県 \n",
    "(コード,地域,都道府県名,面積)\n",
    "values ('26','近畿','京都',4613)\n",
    "\"\"\")\n",
    "exe(\"\"\"\n",
    "insert into 都道府県 \n",
    "values ('37','四国','香川','高松',1876)\n",
    "\"\"\")\n",
    "exe(\"\"\"\n",
    "insert into 都道府県 \n",
    "(都道府県名,県庁所在地)\n",
    "values ('福岡','福岡')\n",
    "\"\"\")\n",
    "exe(\"select * from 都道府県\")"
   ]
  },
  {
   "cell_type": "code",
   "execution_count": 22,
   "metadata": {},
   "outputs": [
    {
     "data": {
      "text/plain": [
       "[('01', '北海道', '北海道', '札幌', 83456),\n",
       " ('05', '東北', '秋田', '秋田', 11612),\n",
       " ('13', '関東', '東京', '新宿', 2187),\n",
       " ('16', '北陸', '富山', '富山', 4247),\n",
       " ('20', '甲信', '長野', '長野', 13562),\n",
       " ('21', '東海', '岐阜', '岐阜', 10621),\n",
       " ('34', '中国', '広島', '広島', 8478),\n",
       " ('37', '四国', '香川', '高松', 1876),\n",
       " ('26', '近畿', '京都', '京都', 4613),\n",
       " ('40', '九州', '福岡', '福岡', 4976)]"
      ]
     },
     "execution_count": 22,
     "metadata": {},
     "output_type": "execute_result"
    }
   ],
   "source": [
    "ct(\"Q\",2,5,1)\n",
    "exe(\"\"\"\n",
    "update 都道府県\n",
    "set 県庁所在地='京都'\n",
    "where コード='26'\n",
    "\"\"\")\n",
    "exe(\"\"\"\n",
    "update 都道府県\n",
    "set 地域='九州',面積=4976\n",
    "where コード='40'\n",
    "\"\"\")\n",
    "exe(\"select * from 都道府県\")"
   ]
  },
  {
   "cell_type": "code",
   "execution_count": 23,
   "metadata": {},
   "outputs": [
    {
     "data": {
      "text/plain": [
       "[('01', '北海道', '北海道', '札幌', 83456),\n",
       " ('05', '東北', '秋田', '秋田', 11612),\n",
       " ('13', '関東', '東京', '新宿', 2187),\n",
       " ('16', '北陸', '富山', '富山', 4247),\n",
       " ('20', '甲信', '長野', '長野', 13562),\n",
       " ('21', '東海', '岐阜', '岐阜', 10621),\n",
       " ('34', '中国', '広島', '広島', 8478),\n",
       " ('37', '四国', '香川', '高松', 1876),\n",
       " ('40', '九州', '福岡', '福岡', 4976)]"
      ]
     },
     "execution_count": 23,
     "metadata": {},
     "output_type": "execute_result"
    }
   ],
   "source": [
    "ct(\"Q\",2,6)\n",
    "exe(\"delete from 都道府県 where コード='26'\")\n",
    "exe(\"select * from 都道府県\")"
   ]
  },
  {
   "cell_type": "code",
   "execution_count": null,
   "metadata": {},
   "outputs": [],
   "source": []
  }
 ],
 "metadata": {
  "kernelspec": {
   "display_name": "Python 3",
   "language": "python",
   "name": "python3"
  },
  "language_info": {
   "codemirror_mode": {
    "name": "ipython",
    "version": 3
   },
   "file_extension": ".py",
   "mimetype": "text/x-python",
   "name": "python",
   "nbconvert_exporter": "python",
   "pygments_lexer": "ipython3",
   "version": "3.8.7"
  }
 },
 "nbformat": 4,
 "nbformat_minor": 4
}
