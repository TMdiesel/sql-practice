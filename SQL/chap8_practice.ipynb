{
 "cells": [
  {
   "cell_type": "markdown",
   "metadata": {},
   "source": [
    "## overview"
   ]
  },
  {
   "cell_type": "code",
   "execution_count": 1,
   "metadata": {},
   "outputs": [],
   "source": [
    "# default package\n",
    "import logging\n",
    "import sys \n",
    "import os\n",
    "import pathlib\n",
    "import IPython\n",
    "import random"
   ]
  },
  {
   "cell_type": "code",
   "execution_count": 2,
   "metadata": {},
   "outputs": [],
   "source": [
    "# third party package\n",
    "import pandas as pd \n",
    "import numpy as np\n",
    "import matplotlib.pyplot as plt\n",
    "import seaborn as sns\n",
    "from tqdm import tqdm\n",
    "import psycopg2\n",
    "import sqlalchemy\n",
    "from sqlalchemy.sql.expression import column,select,table\n",
    "from sqlalchemy import create_engine\n",
    "import sklearn.datasets"
   ]
  },
  {
   "cell_type": "code",
   "execution_count": 3,
   "metadata": {},
   "outputs": [],
   "source": [
    "# my package\n",
    "sys.path.append(os.path.join(pathlib.Path().resolve(),\"../\"))"
   ]
  },
  {
   "cell_type": "code",
   "execution_count": 4,
   "metadata": {},
   "outputs": [],
   "source": [
    "# reload settings\n",
    "%load_ext autoreload\n",
    "%autoreload 2"
   ]
  },
  {
   "cell_type": "code",
   "execution_count": 5,
   "metadata": {},
   "outputs": [],
   "source": [
    "# logger\n",
    "logger=logging.getLogger(__name__)\n",
    "logging.basicConfig(level=logging.INFO)"
   ]
  },
  {
   "cell_type": "code",
   "execution_count": 6,
   "metadata": {},
   "outputs": [],
   "source": [
    "## grap setting\n",
    "sns.set()"
   ]
  },
  {
   "cell_type": "code",
   "execution_count": 7,
   "metadata": {},
   "outputs": [
    {
     "name": "stdout",
     "output_type": "stream",
     "text": [
      "False\n"
     ]
    }
   ],
   "source": [
    "## db setting\n",
    "engine = create_engine('postgresql://postgres:postgres@db:5432/postgres')\n",
    "with engine.connect() as conn:\n",
    "    print(conn.closed)"
   ]
  },
  {
   "cell_type": "markdown",
   "metadata": {},
   "source": [
    "## sql to python"
   ]
  },
  {
   "cell_type": "code",
   "execution_count": 8,
   "metadata": {},
   "outputs": [],
   "source": [
    "def ct(file:str,chap_num:int,num:int,sub_num:int=None,engine:sqlalchemy.engine=engine)->None:\n",
    "    \"\"\"\n",
    "    pubulic schema内のtableをすべて削除してから、指定のtable作成\n",
    "    \"\"\"\n",
    "    if sub_num==None: \n",
    "        filename=f\"../code-ssql2/ddl/ssql2-{file}{chap_num:02}_{num:02}\"\n",
    "    else:\n",
    "        filename=f\"../code-ssql2/ddl/ssql2-{file}{chap_num:02}_{num:02}_{sub_num}\"\n",
    "        \n",
    "    with open(filename,\"r\") as f:\n",
    "        stmt=f.read() \n",
    "    with engine.connect() as conn:\n",
    "        conn.execute(\"drop schema public cascade; create schema public;\")\n",
    "        conn.execute(stmt)"
   ]
  },
  {
   "cell_type": "code",
   "execution_count": 9,
   "metadata": {},
   "outputs": [],
   "source": [
    "def exe(stmt:str,engine:sqlalchemy.engine=engine):\n",
    "    \"\"\"\n",
    "    sql実行\n",
    "    \"\"\"\n",
    "    with engine.connect() as conn:\n",
    "        query=conn.execute(stmt)\n",
    "        try:\n",
    "            result=query.fetchall()\n",
    "            return result\n",
    "        except:\n",
    "            return None"
   ]
  },
  {
   "cell_type": "code",
   "execution_count": 10,
   "metadata": {},
   "outputs": [],
   "source": [
    "def exe_df(stmt:str,engine:sqlalchemy.engine=engine)->pd.DataFrame:\n",
    "    \"\"\"\n",
    "    sql(select)を実行してdataframeを返す\n",
    "    \"\"\"\n",
    "    with engine.connect() as conn:\n",
    "        df=pd.read_sql(stmt,conn)\n",
    "    return df "
   ]
  },
  {
   "cell_type": "markdown",
   "metadata": {},
   "source": [
    "## List"
   ]
  },
  {
   "cell_type": "code",
   "execution_count": 11,
   "metadata": {},
   "outputs": [
    {
     "data": {
      "text/plain": [
       "[(datetime.date(2018, 2, 3), '食費', 'カフェラテを購入'),\n",
       " (datetime.date(2018, 2, 5), '食費', '昼食（日の出食堂）'),\n",
       " (datetime.date(2018, 2, 10), '給料', '1月の給料')]"
      ]
     },
     "execution_count": 11,
     "metadata": {},
     "output_type": "execute_result"
    }
   ],
   "source": [
    "ct(\"List\",8,4)\n",
    "exe(\"\"\"\n",
    "select 日付,名前,メモ\n",
    "from 家計簿\n",
    "join 費目\n",
    "on 家計簿.費目ID=費目.ID\n",
    "\"\"\")"
   ]
  },
  {
   "cell_type": "code",
   "execution_count": 12,
   "metadata": {},
   "outputs": [
    {
     "data": {
      "text/plain": [
       "[(datetime.date(2018, 2, 3), 'カフェラテを購入', '食事代（ただし飲み会などの外食を除く）'),\n",
       " (datetime.date(2018, 2, 5), '昼食（日の出食堂）', '食事代（ただし飲み会などの外食を除く）'),\n",
       " (datetime.date(2018, 2, 10), '1月の給料', '給与や賞与が入った')]"
      ]
     },
     "execution_count": 12,
     "metadata": {},
     "output_type": "execute_result"
    }
   ],
   "source": [
    "ct(\"List\",8,6)\n",
    "exe(\"\"\"\n",
    "select 日付,家計簿.メモ,費目.メモ\n",
    "from 家計簿\n",
    "join 費目\n",
    "on 家計簿.費目ID=費目.ID\n",
    "\"\"\")"
   ]
  },
  {
   "cell_type": "code",
   "execution_count": 13,
   "metadata": {},
   "outputs": [
    {
     "data": {
      "text/plain": [
       "[(datetime.date(2018, 2, 5), '食費', '支出'),\n",
       " (datetime.date(2018, 2, 3), '食費', '支出'),\n",
       " (datetime.date(2018, 2, 10), '給料', '収入')]"
      ]
     },
     "execution_count": 13,
     "metadata": {},
     "output_type": "execute_result"
    }
   ],
   "source": [
    "ct(\"List\",8,8)\n",
    "exe(\"\"\"\n",
    "select 日付,費目.名前, 経費区分.名称\n",
    "from 家計簿\n",
    "join 費目\n",
    "on 家計簿.費目ID=費目.ID\n",
    "join 経費区分\n",
    "on 費目.経費区分ID=経費区分.ID\n",
    "\"\"\")"
   ]
  },
  {
   "cell_type": "code",
   "execution_count": 14,
   "metadata": {},
   "outputs": [
    {
     "data": {
      "text/plain": [
       "[(datetime.date(2018, 2, 3), '食費', 1), (datetime.date(2018, 2, 5), '食費', 1)]"
      ]
     },
     "execution_count": 14,
     "metadata": {},
     "output_type": "execute_result"
    }
   ],
   "source": [
    "ct(\"List\",8,9)\n",
    "exe(\"\"\"\n",
    "select 日付,費目.名前,費目.経費区分ID\n",
    "from 家計簿\n",
    "join\n",
    "(select * from 費目\n",
    "where 経費区分ID=1) as 費目\n",
    "on 家計簿.費目ID=費目.ID\n",
    "\"\"\")"
   ]
  },
  {
   "cell_type": "markdown",
   "metadata": {},
   "source": [
    "## Q"
   ]
  },
  {
   "cell_type": "code",
   "execution_count": 15,
   "metadata": {},
   "outputs": [
    {
     "data": {
      "text/plain": [
       "[('12459040', '宇多田定一', '開発部'), ('21000021', '菅原拓真', '開発部')]"
      ]
     },
     "execution_count": 15,
     "metadata": {},
     "output_type": "execute_result"
    }
   ],
   "source": [
    "ct(\"Q\",8,2,1)\n",
    "exe(\"\"\"\n",
    "select 社員番号,社員.名前,部署.名前\n",
    "from 社員\n",
    "join 部署\n",
    "on 社員.部署id=部署.部署id\n",
    "\"\"\")"
   ]
  },
  {
   "cell_type": "code",
   "execution_count": 16,
   "metadata": {},
   "outputs": [
    {
     "data": {
      "text/plain": [
       "[('21000021', '菅原拓真', '宇多田定一'), ('12459040', '宇多田定一', None)]"
      ]
     },
     "execution_count": 16,
     "metadata": {},
     "output_type": "execute_result"
    }
   ],
   "source": [
    "ct(\"Q\",8,2,2)\n",
    "exe(\"\"\"\n",
    "select A.社員番号,A.名前,B.名前\n",
    "from 社員 as A\n",
    "left join 社員 as B\n",
    "on A.上司id=B.社員番号\n",
    "\"\"\")"
   ]
  },
  {
   "cell_type": "code",
   "execution_count": 17,
   "metadata": {},
   "outputs": [
    {
     "data": {
      "text/plain": [
       "[('12459040', '宇多田定一', '開発部', '東京'), ('21000021', '菅原拓真', '開発部', '東京')]"
      ]
     },
     "execution_count": 17,
     "metadata": {},
     "output_type": "execute_result"
    }
   ],
   "source": [
    "ct(\"Q\",8,2,3)\n",
    "exe(\"\"\"\n",
    "select 社員番号,社員.名前,部署.名前,支店.名前\n",
    "from 社員\n",
    "join 部署\n",
    "on 社員.部署id=部署.部署id\n",
    "join 支店\n",
    "on 社員.勤務地id=支店.支店id\n",
    "\"\"\")"
   ]
  },
  {
   "cell_type": "code",
   "execution_count": 18,
   "metadata": {},
   "outputs": [
    {
     "data": {
      "text/plain": [
       "[(12, '東京', 2, '宇多田定一')]"
      ]
     },
     "execution_count": 18,
     "metadata": {},
     "output_type": "execute_result"
    }
   ],
   "source": [
    "ct(\"Q\",8,2,4)\n",
    "exe(\"\"\"\n",
    "select 支店.支店id,支店.名前,A.社員数,社員.名前\n",
    "from 支店 \n",
    "join \n",
    "(select 勤務地id,count(*) as 社員数\n",
    "from 社員\n",
    "group by 勤務地id) as A\n",
    "on 支店.支店id=A.勤務地id\n",
    "join 社員\n",
    "on 支店.支店長id=社員.社員番号\n",
    "\"\"\")"
   ]
  },
  {
   "cell_type": "code",
   "execution_count": 19,
   "metadata": {},
   "outputs": [
    {
     "data": {
      "text/plain": [
       "[('61381041', '大江岳人', 12, 24)]"
      ]
     },
     "execution_count": 19,
     "metadata": {},
     "output_type": "execute_result"
    }
   ],
   "source": [
    "ct(\"Q\",8,2,5)\n",
    "exe(\"\"\"\n",
    "select * from \n",
    "(select A.社員番号,A.名前,\n",
    "A.勤務地id as 本人勤務地,B.勤務地id as 上司勤務地\n",
    "from 社員 as A\n",
    "join 社員 as B\n",
    "on A.上司id=B.社員番号) as C\n",
    "where C.本人勤務地<>C.上司勤務地\n",
    "\"\"\")"
   ]
  },
  {
   "cell_type": "code",
   "execution_count": null,
   "metadata": {},
   "outputs": [],
   "source": []
  }
 ],
 "metadata": {
  "kernelspec": {
   "display_name": "Python 3",
   "language": "python",
   "name": "python3"
  },
  "language_info": {
   "codemirror_mode": {
    "name": "ipython",
    "version": 3
   },
   "file_extension": ".py",
   "mimetype": "text/x-python",
   "name": "python",
   "nbconvert_exporter": "python",
   "pygments_lexer": "ipython3",
   "version": "3.8.7"
  }
 },
 "nbformat": 4,
 "nbformat_minor": 4
}
